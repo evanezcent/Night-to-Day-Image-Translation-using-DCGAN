{
 "cells": [
  {
   "cell_type": "code",
   "execution_count": 1,
   "metadata": {
    "colab": {
     "base_uri": "https://localhost:8080/",
     "height": 544
    },
    "colab_type": "code",
    "executionInfo": {
     "elapsed": 3677,
     "status": "ok",
     "timestamp": 1600178330325,
     "user": {
      "displayName": "PRATAMA YOGA SANTOSA",
      "photoUrl": "https://lh3.googleusercontent.com/a-/AOh14Ghi0BDzJj-EtfgYWYhHNGSYFxYLPCmAhqQiYHnNrQ=s64",
      "userId": "10150142696432046369"
     },
     "user_tz": -420
    },
    "id": "pYOIQNgx_gC8",
    "outputId": "c91b121c-0e94-4b38-9598-2517d4ec864b"
   },
   "outputs": [
    {
     "name": "stdout",
     "output_type": "stream",
     "text": [
      "[name: \"/device:CPU:0\"\n",
      "device_type: \"CPU\"\n",
      "memory_limit: 268435456\n",
      "locality {\n",
      "}\n",
      "incarnation: 16876966959425695861\n",
      ", name: \"/device:XLA_CPU:0\"\n",
      "device_type: \"XLA_CPU\"\n",
      "memory_limit: 17179869184\n",
      "locality {\n",
      "}\n",
      "incarnation: 15849504090805111848\n",
      "physical_device_desc: \"device: XLA_CPU device\"\n",
      ", name: \"/device:GPU:0\"\n",
      "device_type: \"GPU\"\n",
      "memory_limit: 6535095513\n",
      "locality {\n",
      "  bus_id: 1\n",
      "  links {\n",
      "  }\n",
      "}\n",
      "incarnation: 12659441576821237299\n",
      "physical_device_desc: \"device: 0, name: GeForce RTX 2060 SUPER, pci bus id: 0000:01:00.0, compute capability: 7.5\"\n",
      ", name: \"/device:XLA_GPU:0\"\n",
      "device_type: \"XLA_GPU\"\n",
      "memory_limit: 17179869184\n",
      "locality {\n",
      "}\n",
      "incarnation: 15027052836292021840\n",
      "physical_device_desc: \"device: XLA_GPU device\"\n",
      "]\n"
     ]
    }
   ],
   "source": [
    "import tensorflow as tf\n",
    "tf.__version__\n",
    "\n",
    "#CEK GPU\n",
    "from tensorflow.python.client import device_lib \n",
    "print(device_lib.list_local_devices())"
   ]
  },
  {
   "cell_type": "code",
   "execution_count": 2,
   "metadata": {
    "colab": {},
    "colab_type": "code",
    "executionInfo": {
     "elapsed": 2929,
     "status": "ok",
     "timestamp": 1600178330326,
     "user": {
      "displayName": "PRATAMA YOGA SANTOSA",
      "photoUrl": "https://lh3.googleusercontent.com/a-/AOh14Ghi0BDzJj-EtfgYWYhHNGSYFxYLPCmAhqQiYHnNrQ=s64",
      "userId": "10150142696432046369"
     },
     "user_tz": -420
    },
    "id": "FIIpZlQQ_gC_"
   },
   "outputs": [],
   "source": [
    "import glob\n",
    "import imageio\n",
    "import matplotlib.pyplot as plt\n",
    "import numpy as np\n",
    "import os\n",
    "import PIL\n",
    "from tensorflow.keras import layers\n",
    "import time\n",
    "from keras.preprocessing.image import load_img\n",
    "from keras.preprocessing.image import img_to_array\n",
    "from skimage import transform\n",
    "from IPython import display\n",
    "import cv2\n",
    "# from google.colab.patches import cv2_imshow\n",
    "from numpy import asarray\n",
    "from PIL import Image"
   ]
  },
  {
   "cell_type": "code",
   "execution_count": 16,
   "metadata": {
    "colab": {},
    "colab_type": "code",
    "executionInfo": {
     "elapsed": 2723,
     "status": "ok",
     "timestamp": 1600178330328,
     "user": {
      "displayName": "PRATAMA YOGA SANTOSA",
      "photoUrl": "https://lh3.googleusercontent.com/a-/AOh14Ghi0BDzJj-EtfgYWYhHNGSYFxYLPCmAhqQiYHnNrQ=s64",
      "userId": "10150142696432046369"
     },
     "user_tz": -420
    },
    "id": "jSi4ARvpEmZN"
   },
   "outputs": [],
   "source": [
    "import datetime\n",
    "log_dir=\"/Tama/logs/fit/\"\n",
    "\n",
    "summary_writer = tf.summary.create_file_writer(\n",
    "  log_dir + datetime.datetime.now().strftime(\"%Y%m%d-%H%M%S\"))"
   ]
  },
  {
   "cell_type": "code",
   "execution_count": 4,
   "metadata": {
    "colab": {},
    "colab_type": "code",
    "executionInfo": {
     "elapsed": 2524,
     "status": "ok",
     "timestamp": 1600178330329,
     "user": {
      "displayName": "PRATAMA YOGA SANTOSA",
      "photoUrl": "https://lh3.googleusercontent.com/a-/AOh14Ghi0BDzJj-EtfgYWYhHNGSYFxYLPCmAhqQiYHnNrQ=s64",
      "userId": "10150142696432046369"
     },
     "user_tz": -420
    },
    "id": "BFxwsnoan1y2"
   },
   "outputs": [],
   "source": [
    "BUFFER_SIZE = 200\n",
    "BATCH_SIZE = 7\n",
    "im_size = (128, 128)\n",
    "im_size2 = (128, 128, 3)\n",
    "EPOCHS = 500\n",
    "LAMBDA = 100"
   ]
  },
  {
   "cell_type": "code",
   "execution_count": 5,
   "metadata": {
    "colab": {
     "base_uri": "https://localhost:8080/",
     "height": 340
    },
    "colab_type": "code",
    "executionInfo": {
     "elapsed": 2309,
     "status": "ok",
     "timestamp": 1600178330330,
     "user": {
      "displayName": "PRATAMA YOGA SANTOSA",
      "photoUrl": "https://lh3.googleusercontent.com/a-/AOh14Ghi0BDzJj-EtfgYWYhHNGSYFxYLPCmAhqQiYHnNrQ=s64",
      "userId": "10150142696432046369"
     },
     "user_tz": -420
    },
    "id": "H2AvILzUoZaW",
    "outputId": "87b945ba-8e9a-4ccb-cae6-b29c14782a70"
   },
   "outputs": [
    {
     "data": {
      "text/plain": [
       "['.ipynb_checkpoints',\n",
       " '1000.JPG',\n",
       " 'Checkpoints',\n",
       " 'coba.jpg',\n",
       " 'coba1.jpg',\n",
       " 'coba2.jpg',\n",
       " 'DC-GAN.ipynb',\n",
       " 'dcgan-1000-3eDCGAN.png',\n",
       " 'dcgan-1000-5eDCGAN.png',\n",
       " 'dcgan-3000-5eDCGAN.png',\n",
       " 'dcgan-full-5e.png',\n",
       " 'dc_graph.png',\n",
       " 'debug.log',\n",
       " 'logs',\n",
       " 'logs20201211-150226',\n",
       " 'logs20201211-150758',\n",
       " 'logsfit',\n",
       " 'Old Architecture',\n",
       " 'Pix2Pix.ipynb',\n",
       " 'pre-d',\n",
       " 'pre-n',\n",
       " 'requirements.txt',\n",
       " 'test-64-DCGAN.png',\n",
       " 'TESTING.ipynb',\n",
       " 'Train',\n",
       " 'Train 1 - first experiment',\n",
       " 'Train 64',\n",
       " 'Train new architecture',\n",
       " 'train-img']"
      ]
     },
     "execution_count": 5,
     "metadata": {},
     "output_type": "execute_result"
    }
   ],
   "source": [
    "os.listdir('/Tama')"
   ]
  },
  {
   "cell_type": "code",
   "execution_count": 6,
   "metadata": {
    "colab": {},
    "colab_type": "code",
    "executionInfo": {
     "elapsed": 1208,
     "status": "ok",
     "timestamp": 1600178330332,
     "user": {
      "displayName": "PRATAMA YOGA SANTOSA",
      "photoUrl": "https://lh3.googleusercontent.com/a-/AOh14Ghi0BDzJj-EtfgYWYhHNGSYFxYLPCmAhqQiYHnNrQ=s64",
      "userId": "10150142696432046369"
     },
     "user_tz": -420
    },
    "id": "BS8f9fVmDgxA"
   },
   "outputs": [],
   "source": [
    "def loadFile(kelas):\n",
    "    pathDir = []\n",
    "    for filename in pathh:\n",
    "        pathDir.append(\"/Tama/\"+kelas+'/'+filename+'.jpg')\n",
    "    return np.array(pathDir)"
   ]
  },
  {
   "cell_type": "code",
   "execution_count": 7,
   "metadata": {
    "colab": {},
    "colab_type": "code",
    "executionInfo": {
     "elapsed": 972,
     "status": "ok",
     "timestamp": 1600178330333,
     "user": {
      "displayName": "PRATAMA YOGA SANTOSA",
      "photoUrl": "https://lh3.googleusercontent.com/a-/AOh14Ghi0BDzJj-EtfgYWYhHNGSYFxYLPCmAhqQiYHnNrQ=s64",
      "userId": "10150142696432046369"
     },
     "user_tz": -420
    },
    "id": "inPRlg_5E7DO"
   },
   "outputs": [],
   "source": [
    "day = glob.glob('pre-d/*')\n",
    "night = glob.glob('pre-n/*')"
   ]
  },
  {
   "cell_type": "code",
   "execution_count": 8,
   "metadata": {
    "colab": {
     "base_uri": "https://localhost:8080/",
     "height": 34
    },
    "colab_type": "code",
    "executionInfo": {
     "elapsed": 757,
     "status": "ok",
     "timestamp": 1600178330334,
     "user": {
      "displayName": "PRATAMA YOGA SANTOSA",
      "photoUrl": "https://lh3.googleusercontent.com/a-/AOh14Ghi0BDzJj-EtfgYWYhHNGSYFxYLPCmAhqQiYHnNrQ=s64",
      "userId": "10150142696432046369"
     },
     "user_tz": -420
    },
    "id": "bba-ldRZELj-",
    "outputId": "afe90f4e-8096-4d92-dcca-fedc953c2a46"
   },
   "outputs": [
    {
     "name": "stdout",
     "output_type": "stream",
     "text": [
      "6613 ----- 6613\n"
     ]
    }
   ],
   "source": [
    "print(len(day),'-----',len(night))"
   ]
  },
  {
   "cell_type": "code",
   "execution_count": 9,
   "metadata": {
    "colab": {},
    "colab_type": "code",
    "executionInfo": {
     "elapsed": 1966,
     "status": "ok",
     "timestamp": 1600178331799,
     "user": {
      "displayName": "PRATAMA YOGA SANTOSA",
      "photoUrl": "https://lh3.googleusercontent.com/a-/AOh14Ghi0BDzJj-EtfgYWYhHNGSYFxYLPCmAhqQiYHnNrQ=s64",
      "userId": "10150142696432046369"
     },
     "user_tz": -420
    },
    "id": "Qeg2WLRCK2IY"
   },
   "outputs": [],
   "source": [
    "def loadImages(list_path):\n",
    "    img_list = list()\n",
    "\n",
    "    idx = 0\n",
    "    for filename in list_path:\n",
    "        image = Image.open(filename)\n",
    "        image.thumbnail(im_size, Image.ANTIALIAS)\n",
    "        pixels = np.array(image)\n",
    "        print(filename)\n",
    "        print(pixels.shape)\n",
    "        pixels = pixels.astype('float32')\n",
    "        pixels /= 255.0\n",
    "        assert pixels.shape == (128, 128, 3)\n",
    "\n",
    "        img_list.append(pixels)\n",
    "\n",
    "        idx +=1\n",
    "        print(\"SUCCESS -\",idx)\n",
    "        display.clear_output(wait=True)\n",
    "\n",
    "    return np.array(img_list)"
   ]
  },
  {
   "cell_type": "markdown",
   "metadata": {
    "colab_type": "text",
    "id": "Rspjjh2IeO1X"
   },
   "source": [
    "pixels = (pixels - 127.5) / 127.5\n",
    "\n",
    "if using tanh should be -1,1 , search for explanation why still using [0,1]\n"
   ]
  },
  {
   "cell_type": "code",
   "execution_count": 10,
   "metadata": {
    "colab": {},
    "colab_type": "code",
    "executionInfo": {
     "elapsed": 1563,
     "status": "ok",
     "timestamp": 1600178331800,
     "user": {
      "displayName": "PRATAMA YOGA SANTOSA",
      "photoUrl": "https://lh3.googleusercontent.com/a-/AOh14Ghi0BDzJj-EtfgYWYhHNGSYFxYLPCmAhqQiYHnNrQ=s64",
      "userId": "10150142696432046369"
     },
     "user_tz": -420
    },
    "id": "QHXPY4q3ZKPD"
   },
   "outputs": [],
   "source": [
    "data_day = []\n",
    "data_night = []"
   ]
  },
  {
   "cell_type": "code",
   "execution_count": 11,
   "metadata": {
    "colab": {
     "base_uri": "https://localhost:8080/",
     "height": 68
    },
    "colab_type": "code",
    "executionInfo": {
     "elapsed": 24497,
     "status": "ok",
     "timestamp": 1600178354973,
     "user": {
      "displayName": "PRATAMA YOGA SANTOSA",
      "photoUrl": "https://lh3.googleusercontent.com/a-/AOh14Ghi0BDzJj-EtfgYWYhHNGSYFxYLPCmAhqQiYHnNrQ=s64",
      "userId": "10150142696432046369"
     },
     "user_tz": -420
    },
    "id": "sbmbt77IK2DP",
    "outputId": "f9e63377-60ee-420c-efbb-f3cc62fb8d58"
   },
   "outputs": [
    {
     "name": "stdout",
     "output_type": "stream",
     "text": [
      "pre-d\\06613.jpg\n",
      "(128, 128, 3)\n",
      "SUCCESS - 6613\n"
     ]
    }
   ],
   "source": [
    "data_day = loadImages(day)"
   ]
  },
  {
   "cell_type": "code",
   "execution_count": 12,
   "metadata": {
    "colab": {
     "base_uri": "https://localhost:8080/",
     "height": 68
    },
    "colab_type": "code",
    "executionInfo": {
     "elapsed": 46127,
     "status": "ok",
     "timestamp": 1600178376912,
     "user": {
      "displayName": "PRATAMA YOGA SANTOSA",
      "photoUrl": "https://lh3.googleusercontent.com/a-/AOh14Ghi0BDzJj-EtfgYWYhHNGSYFxYLPCmAhqQiYHnNrQ=s64",
      "userId": "10150142696432046369"
     },
     "user_tz": -420
    },
    "id": "rzO4DjbgLhcA",
    "outputId": "044b5052-3550-4cc6-b179-ad2d47dd8fb2"
   },
   "outputs": [
    {
     "name": "stdout",
     "output_type": "stream",
     "text": [
      "pre-n\\06613.jpg\n",
      "(128, 128, 3)\n",
      "SUCCESS - 6613\n"
     ]
    }
   ],
   "source": [
    "data_night = loadImages(night)"
   ]
  },
  {
   "cell_type": "code",
   "execution_count": 13,
   "metadata": {
    "colab": {},
    "colab_type": "code",
    "executionInfo": {
     "elapsed": 45748,
     "status": "ok",
     "timestamp": 1600178376914,
     "user": {
      "displayName": "PRATAMA YOGA SANTOSA",
      "photoUrl": "https://lh3.googleusercontent.com/a-/AOh14Ghi0BDzJj-EtfgYWYhHNGSYFxYLPCmAhqQiYHnNrQ=s64",
      "userId": "10150142696432046369"
     },
     "user_tz": -420
    },
    "id": "GnxP3ZOVEmK0"
   },
   "outputs": [],
   "source": [
    "train_day = tf.data.Dataset.from_tensor_slices(data_day).batch(BATCH_SIZE)"
   ]
  },
  {
   "cell_type": "code",
   "execution_count": 14,
   "metadata": {
    "colab": {},
    "colab_type": "code",
    "executionInfo": {
     "elapsed": 45535,
     "status": "ok",
     "timestamp": 1600178376915,
     "user": {
      "displayName": "PRATAMA YOGA SANTOSA",
      "photoUrl": "https://lh3.googleusercontent.com/a-/AOh14Ghi0BDzJj-EtfgYWYhHNGSYFxYLPCmAhqQiYHnNrQ=s64",
      "userId": "10150142696432046369"
     },
     "user_tz": -420
    },
    "id": "Li_gBUDhE3Lr"
   },
   "outputs": [],
   "source": [
    "train_night = tf.data.Dataset.from_tensor_slices(data_night).batch(BATCH_SIZE)"
   ]
  },
  {
   "cell_type": "code",
   "execution_count": 15,
   "metadata": {
    "colab": {},
    "colab_type": "code",
    "executionInfo": {
     "elapsed": 45192,
     "status": "ok",
     "timestamp": 1600178376916,
     "user": {
      "displayName": "PRATAMA YOGA SANTOSA",
      "photoUrl": "https://lh3.googleusercontent.com/a-/AOh14Ghi0BDzJj-EtfgYWYhHNGSYFxYLPCmAhqQiYHnNrQ=s64",
      "userId": "10150142696432046369"
     },
     "user_tz": -420
    },
    "id": "GdhCzdJHbnnO"
   },
   "outputs": [],
   "source": [
    "# select a batch of random samples, returns images and target\n",
    "def generate_real_samples(dataset, n_samples, patch_shape):\n",
    "    # unpack dataset\n",
    "    trainA, trainB = dataset\n",
    "\n",
    "    # choose random instances\n",
    "    ix = np.random.randint(0, trainA.shape[0], n_samples)\n",
    "\n",
    "    # retrieve selected images\n",
    "    X1, X2 = trainA[ix], trainB[ix]\n",
    "    \n",
    "    # generate 'real' class labels (1)\n",
    "    y = np.ones((n_samples, patch_shape[0], patch_shape[1], 1))\n",
    "    \n",
    "    return [X1, X2], y\n",
    "\n",
    "# generate a batch of images, returns images and targets\n",
    "def generate_fake_samples(g_model, samples, patch_shape):\n",
    "    # generate fake instance\n",
    "    X = g_model(samples)\n",
    "    \n",
    "    # create 'fake' class labels (0)\n",
    "    y = np.zeros((len(X), patch_shape[0], patch_shape[1], 1))\n",
    "    \n",
    "    return X, y"
   ]
  },
  {
   "cell_type": "code",
   "execution_count": 17,
   "metadata": {
    "colab": {},
    "colab_type": "code",
    "executionInfo": {
     "elapsed": 44884,
     "status": "ok",
     "timestamp": 1600178376917,
     "user": {
      "displayName": "PRATAMA YOGA SANTOSA",
      "photoUrl": "https://lh3.googleusercontent.com/a-/AOh14Ghi0BDzJj-EtfgYWYhHNGSYFxYLPCmAhqQiYHnNrQ=s64",
      "userId": "10150142696432046369"
     },
     "user_tz": -420
    },
    "id": "WGv8BgIdgz9p"
   },
   "outputs": [],
   "source": [
    "[X_realD, X_realN], y_real = generate_real_samples([data_day, data_night], BATCH_SIZE, [128, 128])"
   ]
  },
  {
   "cell_type": "code",
   "execution_count": 18,
   "metadata": {
    "colab": {
     "base_uri": "https://localhost:8080/",
     "height": 220
    },
    "colab_type": "code",
    "executionInfo": {
     "elapsed": 46248,
     "status": "ok",
     "timestamp": 1600178378505,
     "user": {
      "displayName": "PRATAMA YOGA SANTOSA",
      "photoUrl": "https://lh3.googleusercontent.com/a-/AOh14Ghi0BDzJj-EtfgYWYhHNGSYFxYLPCmAhqQiYHnNrQ=s64",
      "userId": "10150142696432046369"
     },
     "user_tz": -420
    },
    "id": "9E-p4L__-LgG",
    "outputId": "d7e04e9f-cc81-43b3-ce70-a9c8b06af0bf"
   },
   "outputs": [
    {
     "data": {
      "text/plain": [
       "<matplotlib.image.AxesImage at 0x21973d38b50>"
      ]
     },
     "execution_count": 18,
     "metadata": {},
     "output_type": "execute_result"
    },
    {
     "data": {
      "image/png": "[encoded data removed]",
      "text/plain": [
       "<Figure size 432x288 with 2 Axes>"
      ]
     },
     "metadata": {
      "needs_background": "light"
     },
     "output_type": "display_data"
    }
   ],
   "source": [
    "# PRINT SAMPLE IMAGE\n",
    "\n",
    "f,ax = plt.subplots(1,2)\n",
    "ax[0].imshow(X_realD[0])\n",
    "ax[1].imshow(X_realN[0])"
   ]
  },
  {
   "cell_type": "code",
   "execution_count": 19,
   "metadata": {},
   "outputs": [],
   "source": [
    "def downsample(filters, size, iStride, activation, apply_batchnorm=True):\n",
    "    initializer = tf.random_normal_initializer(0., 0.02)\n",
    "\n",
    "    result = tf.keras.Sequential()\n",
    "    result.add(\n",
    "        tf.keras.layers.Conv2D(filters, size, strides=iStride, padding='same',\n",
    "                                 kernel_initializer=initializer, use_bias=False))\n",
    "\n",
    "    if apply_batchnorm:\n",
    "        result.add(tf.keras.layers.BatchNormalization())\n",
    "\n",
    "    if (activation == 'relu'):\n",
    "        result.add(tf.keras.layers.ReLU())\n",
    "    elif (activation == 'lrelu'):\n",
    "        layers.LeakyReLU(alpha=0.2)\n",
    "\n",
    "    return result"
   ]
  },
  {
   "cell_type": "code",
   "execution_count": 20,
   "metadata": {},
   "outputs": [],
   "source": [
    "def upsample(filters, size, iStride, activation, apply_dropout=False):\n",
    "    initializer = tf.random_normal_initializer(0., 0.02)\n",
    "\n",
    "    result = tf.keras.Sequential()\n",
    "    result.add(\n",
    "        tf.keras.layers.Conv2DTranspose(filters, size, strides=iStride,\n",
    "                                    padding='same',\n",
    "                                    kernel_initializer=initializer,\n",
    "                                    use_bias=False))\n",
    "\n",
    "    result.add(tf.keras.layers.BatchNormalization())\n",
    "\n",
    "    if apply_dropout:\n",
    "        result.add(tf.keras.layers.Dropout(0.5))\n",
    "\n",
    "    if (activation == 'relu'):\n",
    "        result.add(tf.keras.layers.ReLU())\n",
    "    elif (activation == 'lrelu'):\n",
    "        layers.LeakyReLU(alpha=0.2)\n",
    "\n",
    "    return result"
   ]
  },
  {
   "cell_type": "code",
   "execution_count": 21,
   "metadata": {},
   "outputs": [],
   "source": [
    "def pixGenerator(img_shape):\n",
    "    inputs = tf.keras.layers.Input(shape=img_shape)\n",
    "\n",
    "    down_stack = [\n",
    "        downsample(64, 4, 1, 'lrelu', apply_batchnorm=False), # (bs, 128, 128, 64)\n",
    "        downsample(128, 4, 2, 'lrelu'), # (bs, 64, 64, 128)\n",
    "        downsample(256, 4, 2, 'lrelu'), # (bs, 32, 32, 256)\n",
    "        downsample(512, 4, 2, 'lrelu'), # (bs, 16, 16, 512)\n",
    "        downsample(512, 4, 2, 'lrelu'), # (bs, 8, 8, 512)\n",
    "        downsample(512, 4, 2, 'lrelu'), # (bs, 4, 4, 512)\n",
    "        downsample(512, 4, 2, 'lrelu'), # (bs, 2, 2, 512)\n",
    "        downsample(512, 4, 2, 'lrelu'), # (bs, 1, 1, 512)\n",
    "    ]\n",
    "\n",
    "    up_stack = [\n",
    "        upsample(512, 4, 2, 'relu', apply_dropout=True), # (bs, 2, 2, 1024)\n",
    "        upsample(512, 4, 2, 'relu', apply_dropout=True), # (bs, 4, 4, 1024)\n",
    "        upsample(512, 4, 2, 'relu', apply_dropout=True), # (bs, 8, 8, 1024)\n",
    "        upsample(512, 4, 2, 'relu'), # (bs, 16, 16, 1024, 2)\n",
    "        upsample(256, 4, 2, 'relu'), # (bs, 32, 32, 512)\n",
    "        upsample(128, 4, 2, 'relu'), # (bs, 64, 64, 256)\n",
    "        upsample(64, 4, 2, 'relu'), # (bs, 128, 128, 128)\n",
    "    ]\n",
    "\n",
    "    initializer = tf.random_normal_initializer(0., 0.02)\n",
    "    last = tf.keras.layers.Conv2DTranspose(3, 4,\n",
    "                                         strides=1,\n",
    "                                         padding='same',\n",
    "                                         kernel_initializer=initializer,\n",
    "                                         activation='sigmoid') # (bs, 256, 256, 3)\n",
    "\n",
    "    x = inputs\n",
    "\n",
    "    # Downsampling through the model\n",
    "    skips = []\n",
    "    for down in down_stack:\n",
    "        x = down(x)\n",
    "        skips.append(x)\n",
    "\n",
    "    skips = reversed(skips[:-1])\n",
    "\n",
    "    # Upsampling and establishing the skip connections\n",
    "    for up, skip in zip(up_stack, skips):\n",
    "        x = up(x)\n",
    "        x = tf.keras.layers.Concatenate()([x, skip])\n",
    "\n",
    "    x = last(x)\n",
    "\n",
    "    return tf.keras.Model(inputs=inputs, outputs=x)"
   ]
  },
  {
   "cell_type": "code",
   "execution_count": 22,
   "metadata": {
    "colab": {},
    "colab_type": "code",
    "executionInfo": {
     "elapsed": 45340,
     "status": "ok",
     "timestamp": 1600178378507,
     "user": {
      "displayName": "PRATAMA YOGA SANTOSA",
      "photoUrl": "https://lh3.googleusercontent.com/a-/AOh14Ghi0BDzJj-EtfgYWYhHNGSYFxYLPCmAhqQiYHnNrQ=s64",
      "userId": "10150142696432046369"
     },
     "user_tz": -420
    },
    "id": "cj7Nk50tM-0e"
   },
   "outputs": [],
   "source": [
    "generator = pixGenerator(im_size2)"
   ]
  },
  {
   "cell_type": "code",
   "execution_count": 23,
   "metadata": {},
   "outputs": [
    {
     "name": "stdout",
     "output_type": "stream",
     "text": [
      "('Failed to import pydot. You must `pip install pydot` and install graphviz (https://graphviz.gitlab.io/download/), ', 'for `pydotprint` to work.')\n"
     ]
    }
   ],
   "source": [
    "tf.keras.utils.plot_model(generator, show_shapes=True, dpi=64)"
   ]
  },
  {
   "cell_type": "code",
   "execution_count": 24,
   "metadata": {},
   "outputs": [
    {
     "name": "stdout",
     "output_type": "stream",
     "text": [
      "Model: \"functional_1\"\n",
      "__________________________________________________________________________________________________\n",
      "Layer (type)                    Output Shape         Param #     Connected to                     \n",
      "==================================================================================================\n",
      "input_1 (InputLayer)            [(None, 128, 128, 3) 0                                            \n",
      "__________________________________________________________________________________________________\n",
      "sequential (Sequential)         (None, 128, 128, 64) 3072        input_1[0][0]                    \n",
      "__________________________________________________________________________________________________\n",
      "sequential_1 (Sequential)       (None, 64, 64, 128)  131584      sequential[0][0]                 \n",
      "__________________________________________________________________________________________________\n",
      "sequential_2 (Sequential)       (None, 32, 32, 256)  525312      sequential_1[0][0]               \n",
      "__________________________________________________________________________________________________\n",
      "sequential_3 (Sequential)       (None, 16, 16, 512)  2099200     sequential_2[0][0]               \n",
      "__________________________________________________________________________________________________\n",
      "sequential_4 (Sequential)       (None, 8, 8, 512)    4196352     sequential_3[0][0]               \n",
      "__________________________________________________________________________________________________\n",
      "sequential_5 (Sequential)       (None, 4, 4, 512)    4196352     sequential_4[0][0]               \n",
      "__________________________________________________________________________________________________\n",
      "sequential_6 (Sequential)       (None, 2, 2, 512)    4196352     sequential_5[0][0]               \n",
      "__________________________________________________________________________________________________\n",
      "sequential_7 (Sequential)       (None, 1, 1, 512)    4196352     sequential_6[0][0]               \n",
      "__________________________________________________________________________________________________\n",
      "sequential_8 (Sequential)       (None, 2, 2, 512)    4196352     sequential_7[0][0]               \n",
      "__________________________________________________________________________________________________\n",
      "concatenate (Concatenate)       (None, 2, 2, 1024)   0           sequential_8[0][0]               \n",
      "                                                                 sequential_6[0][0]               \n",
      "__________________________________________________________________________________________________\n",
      "sequential_9 (Sequential)       (None, 4, 4, 512)    8390656     concatenate[0][0]                \n",
      "__________________________________________________________________________________________________\n",
      "concatenate_1 (Concatenate)     (None, 4, 4, 1024)   0           sequential_9[0][0]               \n",
      "                                                                 sequential_5[0][0]               \n",
      "__________________________________________________________________________________________________\n",
      "sequential_10 (Sequential)      (None, 8, 8, 512)    8390656     concatenate_1[0][0]              \n",
      "__________________________________________________________________________________________________\n",
      "concatenate_2 (Concatenate)     (None, 8, 8, 1024)   0           sequential_10[0][0]              \n",
      "                                                                 sequential_4[0][0]               \n",
      "__________________________________________________________________________________________________\n",
      "sequential_11 (Sequential)      (None, 16, 16, 512)  8390656     concatenate_2[0][0]              \n",
      "__________________________________________________________________________________________________\n",
      "concatenate_3 (Concatenate)     (None, 16, 16, 1024) 0           sequential_11[0][0]              \n",
      "                                                                 sequential_3[0][0]               \n",
      "__________________________________________________________________________________________________\n",
      "sequential_12 (Sequential)      (None, 32, 32, 256)  4195328     concatenate_3[0][0]              \n",
      "__________________________________________________________________________________________________\n",
      "concatenate_4 (Concatenate)     (None, 32, 32, 512)  0           sequential_12[0][0]              \n",
      "                                                                 sequential_2[0][0]               \n",
      "__________________________________________________________________________________________________\n",
      "sequential_13 (Sequential)      (None, 64, 64, 128)  1049088     concatenate_4[0][0]              \n",
      "__________________________________________________________________________________________________\n",
      "concatenate_5 (Concatenate)     (None, 64, 64, 256)  0           sequential_13[0][0]              \n",
      "                                                                 sequential_1[0][0]               \n",
      "__________________________________________________________________________________________________\n",
      "sequential_14 (Sequential)      (None, 128, 128, 64) 262400      concatenate_5[0][0]              \n",
      "__________________________________________________________________________________________________\n",
      "concatenate_6 (Concatenate)     (None, 128, 128, 128 0           sequential_14[0][0]              \n",
      "                                                                 sequential[0][0]                 \n",
      "__________________________________________________________________________________________________\n",
      "conv2d_transpose_7 (Conv2DTrans (None, 128, 128, 3)  6147        concatenate_6[0][0]              \n",
      "==================================================================================================\n",
      "Total params: 54,425,859\n",
      "Trainable params: 54,414,979\n",
      "Non-trainable params: 10,880\n",
      "__________________________________________________________________________________________________\n"
     ]
    }
   ],
   "source": [
    "generator.summary()"
   ]
  },
  {
   "cell_type": "code",
   "execution_count": 25,
   "metadata": {},
   "outputs": [],
   "source": [
    "def pixDiscriminator(img_shape):\n",
    "    initializer = tf.random_normal_initializer(0., 0.02)\n",
    "\n",
    "    inp = tf.keras.layers.Input(shape=img_shape, name='input_image')\n",
    "    tar = tf.keras.layers.Input(shape=img_shape, name='target_image')\n",
    "\n",
    "    x = tf.keras.layers.concatenate([inp, tar]) # (bs, 256, 256, channels*2)\n",
    "\n",
    "    down1 = downsample(64, 4, 1, 'lrelu', False)(x) # (bs, 128, 128, 64)\n",
    "    down2 = downsample(128, 4, 2, 'lrelu')(down1) # (bs, 64, 64, 128)\n",
    "    down3 = downsample(256, 4, 2, 'lrelu')(down2) # (bs, 32, 32, 256)\n",
    "\n",
    "    zero_pad1 = tf.keras.layers.ZeroPadding2D()(down3) # (bs, 34, 34, 256)\n",
    "    conv = tf.keras.layers.Conv2D(512, 4, strides=1,\n",
    "                                    kernel_initializer=initializer,\n",
    "                                    use_bias=False)(zero_pad1) # (bs, 31, 31, 512)\n",
    "\n",
    "    batchnorm1 = tf.keras.layers.BatchNormalization()(conv)\n",
    "\n",
    "    leaky_relu = tf.keras.layers.LeakyReLU()(batchnorm1)\n",
    "\n",
    "    zero_pad2 = tf.keras.layers.ZeroPadding2D()(leaky_relu) # (bs, 33, 33, 512)\n",
    "\n",
    "    last = tf.keras.layers.Conv2D(1, 4, strides=1,\n",
    "                                    kernel_initializer=initializer)(zero_pad2) # (bs, 30, 30, 1)\n",
    "\n",
    "    return tf.keras.Model(inputs=[inp, tar], outputs=last)"
   ]
  },
  {
   "cell_type": "code",
   "execution_count": 26,
   "metadata": {
    "colab": {},
    "colab_type": "code",
    "executionInfo": {
     "elapsed": 1374,
     "status": "ok",
     "timestamp": 1600178387439,
     "user": {
      "displayName": "PRATAMA YOGA SANTOSA",
      "photoUrl": "https://lh3.googleusercontent.com/a-/AOh14Ghi0BDzJj-EtfgYWYhHNGSYFxYLPCmAhqQiYHnNrQ=s64",
      "userId": "10150142696432046369"
     },
     "user_tz": -420
    },
    "id": "2nIwkPrFn1jW"
   },
   "outputs": [],
   "source": [
    "discriminator = pixDiscriminator(im_size2)"
   ]
  },
  {
   "cell_type": "code",
   "execution_count": 27,
   "metadata": {},
   "outputs": [
    {
     "name": "stdout",
     "output_type": "stream",
     "text": [
      "('Failed to import pydot. You must `pip install pydot` and install graphviz (https://graphviz.gitlab.io/download/), ', 'for `pydotprint` to work.')\n"
     ]
    }
   ],
   "source": [
    "tf.keras.utils.plot_model(discriminator, show_shapes=True, dpi=64)"
   ]
  },
  {
   "cell_type": "code",
   "execution_count": 28,
   "metadata": {
    "colab": {
     "base_uri": "https://localhost:8080/",
     "height": 714
    },
    "colab_type": "code",
    "executionInfo": {
     "elapsed": 1313,
     "status": "ok",
     "timestamp": 1600178390622,
     "user": {
      "displayName": "PRATAMA YOGA SANTOSA",
      "photoUrl": "https://lh3.googleusercontent.com/a-/AOh14Ghi0BDzJj-EtfgYWYhHNGSYFxYLPCmAhqQiYHnNrQ=s64",
      "userId": "10150142696432046369"
     },
     "user_tz": -420
    },
    "id": "EgQ-hqaychtb",
    "outputId": "471f93ff-8b70-4c8d-c193-c147a83d1d1d"
   },
   "outputs": [
    {
     "name": "stdout",
     "output_type": "stream",
     "text": [
      "Model: \"functional_3\"\n",
      "__________________________________________________________________________________________________\n",
      "Layer (type)                    Output Shape         Param #     Connected to                     \n",
      "==================================================================================================\n",
      "input_image (InputLayer)        [(None, 128, 128, 3) 0                                            \n",
      "__________________________________________________________________________________________________\n",
      "target_image (InputLayer)       [(None, 128, 128, 3) 0                                            \n",
      "__________________________________________________________________________________________________\n",
      "concatenate_7 (Concatenate)     (None, 128, 128, 6)  0           input_image[0][0]                \n",
      "                                                                 target_image[0][0]               \n",
      "__________________________________________________________________________________________________\n",
      "sequential_15 (Sequential)      (None, 128, 128, 64) 6144        concatenate_7[0][0]              \n",
      "__________________________________________________________________________________________________\n",
      "sequential_16 (Sequential)      (None, 64, 64, 128)  131584      sequential_15[0][0]              \n",
      "__________________________________________________________________________________________________\n",
      "sequential_17 (Sequential)      (None, 32, 32, 256)  525312      sequential_16[0][0]              \n",
      "__________________________________________________________________________________________________\n",
      "zero_padding2d (ZeroPadding2D)  (None, 34, 34, 256)  0           sequential_17[0][0]              \n",
      "__________________________________________________________________________________________________\n",
      "conv2d_11 (Conv2D)              (None, 31, 31, 512)  2097152     zero_padding2d[0][0]             \n",
      "__________________________________________________________________________________________________\n",
      "batch_normalization_16 (BatchNo (None, 31, 31, 512)  2048        conv2d_11[0][0]                  \n",
      "__________________________________________________________________________________________________\n",
      "leaky_re_lu_11 (LeakyReLU)      (None, 31, 31, 512)  0           batch_normalization_16[0][0]     \n",
      "__________________________________________________________________________________________________\n",
      "zero_padding2d_1 (ZeroPadding2D (None, 33, 33, 512)  0           leaky_re_lu_11[0][0]             \n",
      "__________________________________________________________________________________________________\n",
      "conv2d_12 (Conv2D)              (None, 30, 30, 1)    8193        zero_padding2d_1[0][0]           \n",
      "==================================================================================================\n",
      "Total params: 2,770,433\n",
      "Trainable params: 2,768,641\n",
      "Non-trainable params: 1,792\n",
      "__________________________________________________________________________________________________\n"
     ]
    }
   ],
   "source": [
    "discriminator.summary()"
   ]
  },
  {
   "cell_type": "markdown",
   "metadata": {
    "colab_type": "text",
    "id": "gOnnY1zrLc0x"
   },
   "source": [
    "Search about learning rate\n"
   ]
  },
  {
   "cell_type": "code",
   "execution_count": 29,
   "metadata": {
    "colab": {},
    "colab_type": "code",
    "executionInfo": {
     "elapsed": 1226,
     "status": "ok",
     "timestamp": 1600178397343,
     "user": {
      "displayName": "PRATAMA YOGA SANTOSA",
      "photoUrl": "https://lh3.googleusercontent.com/a-/AOh14Ghi0BDzJj-EtfgYWYhHNGSYFxYLPCmAhqQiYHnNrQ=s64",
      "userId": "10150142696432046369"
     },
     "user_tz": -420
    },
    "id": "5s-siOcqn1Z4"
   },
   "outputs": [],
   "source": [
    "generator_optimizer = tf.keras.optimizers.Adam(lr=3e-4)\n",
    "discriminator_optimizer = tf.keras.optimizers.Adam(lr=3e-4)"
   ]
  },
  {
   "cell_type": "code",
   "execution_count": 30,
   "metadata": {
    "colab": {},
    "colab_type": "code",
    "executionInfo": {
     "elapsed": 976,
     "status": "ok",
     "timestamp": 1600178397344,
     "user": {
      "displayName": "PRATAMA YOGA SANTOSA",
      "photoUrl": "https://lh3.googleusercontent.com/a-/AOh14Ghi0BDzJj-EtfgYWYhHNGSYFxYLPCmAhqQiYHnNrQ=s64",
      "userId": "10150142696432046369"
     },
     "user_tz": -420
    },
    "id": "Q_zUdZVln1he"
   },
   "outputs": [],
   "source": [
    "# This method returns a helper function to compute cross entropy loss\n",
    "cross_entropy = tf.keras.losses.BinaryCrossentropy(from_logits=True)"
   ]
  },
  {
   "cell_type": "code",
   "execution_count": 31,
   "metadata": {
    "colab": {},
    "colab_type": "code",
    "executionInfo": {
     "elapsed": 946,
     "status": "ok",
     "timestamp": 1600178398391,
     "user": {
      "displayName": "PRATAMA YOGA SANTOSA",
      "photoUrl": "https://lh3.googleusercontent.com/a-/AOh14Ghi0BDzJj-EtfgYWYhHNGSYFxYLPCmAhqQiYHnNrQ=s64",
      "userId": "10150142696432046369"
     },
     "user_tz": -420
    },
    "id": "3q29wXezn1eM"
   },
   "outputs": [],
   "source": [
    "def discriminatorLoss(real_output, fake_output):\n",
    "    real_loss = cross_entropy(tf.ones_like(real_output), real_output)\n",
    "    fake_loss = cross_entropy(tf.zeros_like(fake_output), fake_output)\n",
    "    \n",
    "    total_loss = real_loss + fake_loss\n",
    "    return total_loss"
   ]
  },
  {
   "cell_type": "code",
   "execution_count": 32,
   "metadata": {
    "colab": {},
    "colab_type": "code",
    "executionInfo": {
     "elapsed": 1175,
     "status": "ok",
     "timestamp": 1600178400032,
     "user": {
      "displayName": "PRATAMA YOGA SANTOSA",
      "photoUrl": "https://lh3.googleusercontent.com/a-/AOh14Ghi0BDzJj-EtfgYWYhHNGSYFxYLPCmAhqQiYHnNrQ=s64",
      "userId": "10150142696432046369"
     },
     "user_tz": -420
    },
    "id": "lq6ktrhh1i8x"
   },
   "outputs": [],
   "source": [
    "def generatorLoss(fake_output, generated_output, target):\n",
    "    gan_loss = cross_entropy(tf.ones_like(fake_output), fake_output)\n",
    "\n",
    "    # mean absolute error / L1\n",
    "    l1_loss = tf.reduce_mean(tf.abs(target - generated_output))\n",
    "\n",
    "    # L2\n",
    "    l2_loss = tf.reduce_mean(tf.square(target - generated_output))\n",
    "    \n",
    "    # PSNR\n",
    "    psnr_loss = tf.reduce_mean(tf.image.psnr(generated_output, target, max_val=1.0))\n",
    "\n",
    "    l1_loss *= LAMBDA\n",
    "    l2_loss *= LAMBDA\n",
    "\n",
    "    gen_loss = gan_loss +  l1_loss + psnr_loss + l2_loss\n",
    "    return gen_loss, gan_loss, l1_loss, psnr_loss, l2_loss"
   ]
  },
  {
   "cell_type": "code",
   "execution_count": 33,
   "metadata": {
    "colab": {},
    "colab_type": "code",
    "executionInfo": {
     "elapsed": 922,
     "status": "ok",
     "timestamp": 1600178400033,
     "user": {
      "displayName": "PRATAMA YOGA SANTOSA",
      "photoUrl": "https://lh3.googleusercontent.com/a-/AOh14Ghi0BDzJj-EtfgYWYhHNGSYFxYLPCmAhqQiYHnNrQ=s64",
      "userId": "10150142696432046369"
     },
     "user_tz": -420
    },
    "id": "hff8b5Tsn1VO"
   },
   "outputs": [],
   "source": [
    "checkpoint_dir = '/Tama/Checkpoints/pix'\n",
    "checkpoint = tf.train.Checkpoint(generator_optimizer=generator_optimizer,\n",
    "                                 discriminator_optimizer=discriminator_optimizer,\n",
    "                                 generator=generator,\n",
    "                                 discriminator=discriminator)\n",
    "\n",
    "ckpt_manager = tf.train.CheckpointManager(checkpoint, checkpoint_dir, max_to_keep=5)\n",
    "\n",
    "# if a checkpoint exists, restore the latest checkpoint.\n",
    "if ckpt_manager.latest_checkpoint:\n",
    "    checkpoint.restore(ckpt_manager.latest_checkpoint)\n",
    "    print ('Latest checkpoint restored!!')"
   ]
  },
  {
   "cell_type": "code",
   "execution_count": 34,
   "metadata": {
    "colab": {},
    "colab_type": "code",
    "executionInfo": {
     "elapsed": 766,
     "status": "ok",
     "timestamp": 1600178401281,
     "user": {
      "displayName": "PRATAMA YOGA SANTOSA",
      "photoUrl": "https://lh3.googleusercontent.com/a-/AOh14Ghi0BDzJj-EtfgYWYhHNGSYFxYLPCmAhqQiYHnNrQ=s64",
      "userId": "10150142696432046369"
     },
     "user_tz": -420
    },
    "id": "mxr-BZotn1KM"
   },
   "outputs": [],
   "source": [
    "def generate_and_save_images(model, epoch):\n",
    "    # Notice `training` is set to False.\n",
    "    # This is so all layers run in inference mode (batchnorm).\n",
    "    \n",
    "    img = load_img('/Tama/coba1.jpg', target_size = im_size)\n",
    "    pixel = img_to_array(img)\n",
    "    pixel /= 255\n",
    "    pixel = pixel.reshape(1, 128, 128, 3)\n",
    "    prediction = model(pixel, training=False)\n",
    "    \n",
    "    fig, ax = plt.subplots(1,2)\n",
    "    ax[0].imshow(pixel[0])\n",
    "    ax[1].imshow(prediction[0])\n",
    "#     ax[2].imshow(target)\n",
    "\n",
    "    plt.savefig('/Tama/train-img/img_epoch_{:04d}.png'.format(epoch))\n",
    "    plt.show()"
   ]
  },
  {
   "cell_type": "code",
   "execution_count": 35,
   "metadata": {},
   "outputs": [],
   "source": [
    "from tensorflow.keras import metrics\n",
    "\n",
    "generator_loss = metrics.Mean(name='generator_loss')\n",
    "discriminator_loss = metrics.Mean(name='discriminator_loss')\n",
    "Pix_Loss = metrics.Mean(name='Pix_Loss')"
   ]
  },
  {
   "cell_type": "code",
   "execution_count": 36,
   "metadata": {
    "colab": {},
    "colab_type": "code",
    "executionInfo": {
     "elapsed": 1969,
     "status": "ok",
     "timestamp": 1600178403688,
     "user": {
      "displayName": "PRATAMA YOGA SANTOSA",
      "photoUrl": "https://lh3.googleusercontent.com/a-/AOh14Ghi0BDzJj-EtfgYWYhHNGSYFxYLPCmAhqQiYHnNrQ=s64",
      "userId": "10150142696432046369"
     },
     "user_tz": -420
    },
    "id": "D6O8-RTWn1Pt"
   },
   "outputs": [],
   "source": [
    "# Notice the use of `tf.function`\n",
    "# This annotation causes the function to be \"compiled\".\n",
    "@tf.function\n",
    "def train_step(day, night, epoch):\n",
    "\n",
    "    with tf.GradientTape() as gen_tape, tf.GradientTape() as disc_tape:\n",
    "        generated_image = generator(night, training=True)\n",
    "\n",
    "        real_output = discriminator([night, day], training=True)\n",
    "        fake_output = discriminator([night, generated_image], training=True)\n",
    "\n",
    "        gen_loss, gan_loss, l1_loss, psnr_loss, l2_loss = generatorLoss(fake_output, generated_image, day)\n",
    "        disc_loss = discriminatorLoss(real_output, fake_output)\n",
    "    \n",
    "\n",
    "    gradients_of_generator = gen_tape.gradient(gen_loss, generator.trainable_variables)\n",
    "    gradients_of_discriminator = disc_tape.gradient(disc_loss, discriminator.trainable_variables)\n",
    "  \n",
    "    generator_optimizer.apply_gradients(zip(gradients_of_generator, generator.trainable_variables))\n",
    "    discriminator_optimizer.apply_gradients(zip(gradients_of_discriminator, discriminator.trainable_variables))\n",
    "  \n",
    "    # UPDATE VARIABLE\n",
    "    generator_loss(gen_loss)\n",
    "    discriminator_loss(disc_loss)\n",
    "    Pix_Loss(gan_loss)\n",
    "\n",
    "    with summary_writer.as_default():\n",
    "        tf.summary.scalar('Generator_Loss', gen_loss, step=epoch)\n",
    "        tf.summary.scalar('Pix_Loss', gan_loss, step=epoch)\n",
    "        tf.summary.scalar('Discriminator_Loss', disc_loss, step=epoch)\n",
    "#         tf.summary.scalar('L1_Loss', l1_loss, step=epoch)\n",
    "#         tf.summary.scalar('PSNR_Loss', psnr_loss, step=epoch)"
   ]
  },
  {
   "cell_type": "code",
   "execution_count": 37,
   "metadata": {},
   "outputs": [],
   "source": [
    "history = {}\n",
    "history['generator_loss']     = []\n",
    "history['discriminator_loss'] = []\n",
    "history['Pix_Loss']      = []"
   ]
  },
  {
   "cell_type": "code",
   "execution_count": 38,
   "metadata": {
    "colab": {},
    "colab_type": "code",
    "executionInfo": {
     "elapsed": 1315,
     "status": "ok",
     "timestamp": 1600178403688,
     "user": {
      "displayName": "PRATAMA YOGA SANTOSA",
      "photoUrl": "https://lh3.googleusercontent.com/a-/AOh14Ghi0BDzJj-EtfgYWYhHNGSYFxYLPCmAhqQiYHnNrQ=s64",
      "userId": "10150142696432046369"
     },
     "user_tz": -420
    },
    "id": "da99nMmpn1NR"
   },
   "outputs": [],
   "source": [
    "def train(day, night, epochs):\n",
    "    for epoch in range(epochs):\n",
    "        start = time.time()\n",
    "        idx = 0\n",
    "        for imgD, imgN in tf.data.Dataset.zip((day, night)):\n",
    "            train_step(imgD, imgN, epoch)\n",
    "            idx+=1\n",
    "        \n",
    "        # add current loss and accuracy to history\n",
    "        history['generator_loss'].append(generator_loss.result())\n",
    "        history['discriminator_loss'].append(discriminator_loss.result())\n",
    "        history['Pix_Loss'].append(Pix_Loss.result())\n",
    "\n",
    "        # Save the Checkpoints every 10 epochs\n",
    "        if (epoch + 1) % 10 == 0:\n",
    "            ckpt_save_path = ckpt_manager.save()\n",
    "            print ('Saving checkpoint for epoch {} at {}'.format(epoch+1, ckpt_save_path))\n",
    "\n",
    "        print ('Time for epoch {} is {} second'.format(epoch + 1, time.time()-start))\n",
    "        print ('LOSS =========> Generator : {} ___ Discriminator : {} ___ PIX_LOSS : {}'.format(generator_loss.result(),\n",
    "                                                                                            discriminator_loss.result(),\n",
    "                                                                                            Pix_Loss.result()))\n",
    "        if(epoch+1)%100 == 0:\n",
    "            generator.save('/Tama/Train/final/pix_generator.h5')\n",
    "            discriminator.save('/Tama/Train/final/pix_discriminator.h5')\n",
    "            print(\"Generator and Discriminator saved . . .\")\n",
    "            print()"
   ]
  },
  {
   "cell_type": "code",
   "execution_count": 39,
   "metadata": {
    "colab": {
     "base_uri": "https://localhost:8080/",
     "height": 184
    },
    "colab_type": "code",
    "id": "C-RX6tLeow_a",
    "outputId": "2059252d-4617-45da-cb1d-90a57a1c2eb7",
    "scrolled": true
   },
   "outputs": [
    {
     "name": "stdout",
     "output_type": "stream",
     "text": [
      "Time for epoch 1 is 158.30728220939636 second\n",
      "LOSS =========> Generator : 39.01625442504883 ___ Discriminator : 1.0019208192825317 ___ PIX_LOSS : 1.2722665071487427\n",
      "Time for epoch 2 is 153.98808455467224 second\n",
      "LOSS =========> Generator : 38.88752746582031 ___ Discriminator : 0.9937156438827515 ___ PIX_LOSS : 1.304149866104126\n",
      "Time for epoch 3 is 155.02081632614136 second\n",
      "LOSS =========> Generator : 38.83171463012695 ___ Discriminator : 0.9822468161582947 ___ PIX_LOSS : 1.3401778936386108\n",
      "Time for epoch 4 is 154.32460594177246 second\n",
      "LOSS =========> Generator : 38.80146789550781 ___ Discriminator : 0.9829289317131042 ___ PIX_LOSS : 1.3519054651260376\n",
      "Time for epoch 5 is 154.14145731925964 second\n",
      "LOSS =========> Generator : 38.742713928222656 ___ Discriminator : 0.9867040514945984 ___ PIX_LOSS : 1.3558800220489502\n",
      "Time for epoch 6 is 154.3229637145996 second\n",
      "LOSS =========> Generator : 38.657718658447266 ___ Discriminator : 0.9931202530860901 ___ PIX_LOSS : 1.347185492515564\n",
      "Time for epoch 7 is 156.1527042388916 second\n",
      "LOSS =========> Generator : 38.55519485473633 ___ Discriminator : 1.001556158065796 ___ PIX_LOSS : 1.338337779045105\n",
      "Time for epoch 8 is 154.3623685836792 second\n",
      "LOSS =========> Generator : 38.447113037109375 ___ Discriminator : 1.0088719129562378 ___ PIX_LOSS : 1.33076012134552\n",
      "Time for epoch 9 is 154.3106300830841 second\n",
      "LOSS =========> Generator : 38.330963134765625 ___ Discriminator : 1.0146543979644775 ___ PIX_LOSS : 1.3219350576400757\n",
      "Saving checkpoint for epoch 10 at /Tama/Checkpoints/pix\\ckpt-1\n",
      "Time for epoch 10 is 159.81875109672546 second\n",
      "LOSS =========> Generator : 38.211727142333984 ___ Discriminator : 1.0195567607879639 ___ PIX_LOSS : 1.3148738145828247\n",
      "Time for epoch 11 is 153.88505911827087 second\n",
      "LOSS =========> Generator : 38.08629608154297 ___ Discriminator : 1.0233664512634277 ___ PIX_LOSS : 1.3077136278152466\n",
      "Time for epoch 12 is 154.1856369972229 second\n",
      "LOSS =========> Generator : 37.95829772949219 ___ Discriminator : 1.0274540185928345 ___ PIX_LOSS : 1.3012752532958984\n",
      "Time for epoch 13 is 154.9157214164734 second\n",
      "LOSS =========> Generator : 37.82633590698242 ___ Discriminator : 1.0310667753219604 ___ PIX_LOSS : 1.2942025661468506\n",
      "Time for epoch 14 is 153.96527338027954 second\n",
      "LOSS =========> Generator : 37.69266128540039 ___ Discriminator : 1.0330957174301147 ___ PIX_LOSS : 1.2885091304779053\n",
      "Time for epoch 15 is 153.84922003746033 second\n",
      "LOSS =========> Generator : 37.55929183959961 ___ Discriminator : 1.0348185300827026 ___ PIX_LOSS : 1.2839412689208984\n",
      "Time for epoch 16 is 155.02276968955994 second\n",
      "LOSS =========> Generator : 37.42335891723633 ___ Discriminator : 1.0363922119140625 ___ PIX_LOSS : 1.2799526453018188\n",
      "Time for epoch 17 is 156.65654611587524 second\n",
      "LOSS =========> Generator : 37.28602981567383 ___ Discriminator : 1.0379595756530762 ___ PIX_LOSS : 1.276513695716858\n",
      "Time for epoch 18 is 155.50220322608948 second\n",
      "LOSS =========> Generator : 37.14767837524414 ___ Discriminator : 1.0395606756210327 ___ PIX_LOSS : 1.2730084657669067\n",
      "Time for epoch 19 is 154.17504811286926 second\n",
      "LOSS =========> Generator : 37.011940002441406 ___ Discriminator : 1.0395888090133667 ___ PIX_LOSS : 1.270948886871338\n",
      "Saving checkpoint for epoch 20 at /Tama/Checkpoints/pix\\ckpt-2\n",
      "Time for epoch 20 is 159.66355919837952 second\n",
      "LOSS =========> Generator : 36.875038146972656 ___ Discriminator : 1.040226936340332 ___ PIX_LOSS : 1.2689175605773926\n",
      "Time for epoch 21 is 155.50344681739807 second\n",
      "LOSS =========> Generator : 36.740726470947266 ___ Discriminator : 1.039663314819336 ___ PIX_LOSS : 1.2674912214279175\n",
      "Time for epoch 22 is 154.49345993995667 second\n",
      "LOSS =========> Generator : 36.61076354980469 ___ Discriminator : 1.0386375188827515 ___ PIX_LOSS : 1.2675367593765259\n",
      "Time for epoch 23 is 154.27831029891968 second\n",
      "LOSS =========> Generator : 36.48190689086914 ___ Discriminator : 1.0374823808670044 ___ PIX_LOSS : 1.2679280042648315\n",
      "Time for epoch 24 is 154.23670887947083 second\n",
      "LOSS =========> Generator : 36.35405349731445 ___ Discriminator : 1.036399483680725 ___ PIX_LOSS : 1.2681307792663574\n",
      "Time for epoch 25 is 154.26124501228333 second\n",
      "LOSS =========> Generator : 36.22780227661133 ___ Discriminator : 1.0351612567901611 ___ PIX_LOSS : 1.2686738967895508\n",
      "Time for epoch 26 is 154.23180770874023 second\n",
      "LOSS =========> Generator : 36.10367202758789 ___ Discriminator : 1.0335365533828735 ___ PIX_LOSS : 1.2697570323944092\n",
      "Time for epoch 27 is 156.06406903266907 second\n",
      "LOSS =========> Generator : 35.981300354003906 ___ Discriminator : 1.032006859779358 ___ PIX_LOSS : 1.270883560180664\n",
      "Time for epoch 28 is 154.22097063064575 second\n",
      "LOSS =========> Generator : 35.8618278503418 ___ Discriminator : 1.0304558277130127 ___ PIX_LOSS : 1.2722933292388916\n",
      "Time for epoch 29 is 154.37335419654846 second\n",
      "LOSS =========> Generator : 35.744606018066406 ___ Discriminator : 1.0286287069320679 ___ PIX_LOSS : 1.273828148841858\n",
      "Saving checkpoint for epoch 30 at /Tama/Checkpoints/pix\\ckpt-3\n",
      "Time for epoch 30 is 159.56156039237976 second\n",
      "LOSS =========> Generator : 35.63015365600586 ___ Discriminator : 1.026833176612854 ___ PIX_LOSS : 1.2756167650222778\n",
      "Time for epoch 31 is 153.96139812469482 second\n",
      "LOSS =========> Generator : 35.518898010253906 ___ Discriminator : 1.024999976158142 ___ PIX_LOSS : 1.2775897979736328\n",
      "Time for epoch 32 is 154.13086342811584 second\n",
      "LOSS =========> Generator : 35.41072082519531 ___ Discriminator : 1.0231349468231201 ___ PIX_LOSS : 1.279829740524292\n",
      "Time for epoch 33 is 154.62485575675964 second\n",
      "LOSS =========> Generator : 35.3046875 ___ Discriminator : 1.0211037397384644 ___ PIX_LOSS : 1.2821251153945923\n",
      "Time for epoch 34 is 156.36973571777344 second\n",
      "LOSS =========> Generator : 35.201351165771484 ___ Discriminator : 1.019298791885376 ___ PIX_LOSS : 1.284487009048462\n",
      "Time for epoch 35 is 154.35927724838257 second\n",
      "LOSS =========> Generator : 35.101356506347656 ___ Discriminator : 1.0175223350524902 ___ PIX_LOSS : 1.2868576049804688\n",
      "Time for epoch 36 is 154.17707705497742 second\n",
      "LOSS =========> Generator : 35.00360870361328 ___ Discriminator : 1.015933632850647 ___ PIX_LOSS : 1.2891978025436401\n",
      "Time for epoch 37 is 154.32180857658386 second\n",
      "LOSS =========> Generator : 34.907596588134766 ___ Discriminator : 1.0142353773117065 ___ PIX_LOSS : 1.2914210557937622\n",
      "Time for epoch 38 is 154.21465015411377 second\n",
      "LOSS =========> Generator : 34.81559753417969 ___ Discriminator : 1.0126488208770752 ___ PIX_LOSS : 1.2938300371170044\n",
      "Time for epoch 39 is 154.32529044151306 second\n",
      "LOSS =========> Generator : 34.72593688964844 ___ Discriminator : 1.0110101699829102 ___ PIX_LOSS : 1.2962141036987305\n",
      "Saving checkpoint for epoch 40 at /Tama/Checkpoints/pix\\ckpt-4\n",
      "Time for epoch 40 is 159.67685222625732 second\n",
      "LOSS =========> Generator : 34.63906478881836 ___ Discriminator : 1.009443759918213 ___ PIX_LOSS : 1.298747181892395\n",
      "Time for epoch 41 is 154.34162259101868 second\n",
      "LOSS =========> Generator : 34.55459213256836 ___ Discriminator : 1.0077983140945435 ___ PIX_LOSS : 1.3014216423034668\n",
      "Time for epoch 42 is 154.2547242641449 second\n",
      "LOSS =========> Generator : 34.472434997558594 ___ Discriminator : 1.0062659978866577 ___ PIX_LOSS : 1.3041890859603882\n",
      "Time for epoch 43 is 157.15230703353882 second\n",
      "LOSS =========> Generator : 34.392520904541016 ___ Discriminator : 1.0047332048416138 ___ PIX_LOSS : 1.3069316148757935\n",
      "Time for epoch 44 is 154.32994079589844 second\n",
      "LOSS =========> Generator : 34.31522750854492 ___ Discriminator : 1.0032764673233032 ___ PIX_LOSS : 1.3097642660140991\n",
      "Time for epoch 45 is 154.56531691551208 second\n",
      "LOSS =========> Generator : 34.24111557006836 ___ Discriminator : 1.0018115043640137 ___ PIX_LOSS : 1.3124701976776123\n",
      "Time for epoch 46 is 154.44318914413452 second\n",
      "LOSS =========> Generator : 34.168190002441406 ___ Discriminator : 1.0004465579986572 ___ PIX_LOSS : 1.315122365951538\n",
      "Time for epoch 47 is 154.1941888332367 second\n",
      "LOSS =========> Generator : 34.09727478027344 ___ Discriminator : 0.9991129636764526 ___ PIX_LOSS : 1.3177186250686646\n",
      "Time for epoch 48 is 154.54619145393372 second\n",
      "LOSS =========> Generator : 34.02790451049805 ___ Discriminator : 0.9980604648590088 ___ PIX_LOSS : 1.3201398849487305\n",
      "Time for epoch 49 is 154.3488097190857 second\n",
      "LOSS =========> Generator : 33.96092224121094 ___ Discriminator : 0.9968841671943665 ___ PIX_LOSS : 1.3226032257080078\n"
     ]
    },
    {
     "name": "stdout",
     "output_type": "stream",
     "text": [
      "Saving checkpoint for epoch 50 at /Tama/Checkpoints/pix\\ckpt-5\n",
      "Time for epoch 50 is 159.24267530441284 second\n",
      "LOSS =========> Generator : 33.895477294921875 ___ Discriminator : 0.9958117008209229 ___ PIX_LOSS : 1.3250315189361572\n",
      "Time for epoch 51 is 154.07710099220276 second\n",
      "LOSS =========> Generator : 33.830448150634766 ___ Discriminator : 0.994891345500946 ___ PIX_LOSS : 1.3271740674972534\n",
      "Time for epoch 52 is 154.44139790534973 second\n",
      "LOSS =========> Generator : 33.76670837402344 ___ Discriminator : 0.993977427482605 ___ PIX_LOSS : 1.3292748928070068\n",
      "Time for epoch 53 is 154.3527717590332 second\n",
      "LOSS =========> Generator : 33.70494079589844 ___ Discriminator : 0.9931312203407288 ___ PIX_LOSS : 1.3313443660736084\n",
      "Time for epoch 54 is 157.4206359386444 second\n",
      "LOSS =========> Generator : 33.644432067871094 ___ Discriminator : 0.9923762679100037 ___ PIX_LOSS : 1.333223819732666\n",
      "Time for epoch 55 is 154.57331657409668 second\n",
      "LOSS =========> Generator : 33.58425521850586 ___ Discriminator : 0.991669237613678 ___ PIX_LOSS : 1.3348451852798462\n",
      "Time for epoch 56 is 154.48778820037842 second\n",
      "LOSS =========> Generator : 33.52541732788086 ___ Discriminator : 0.9911314249038696 ___ PIX_LOSS : 1.3364384174346924\n",
      "Time for epoch 57 is 154.21615862846375 second\n",
      "LOSS =========> Generator : 33.468509674072266 ___ Discriminator : 0.9905392527580261 ___ PIX_LOSS : 1.3380097150802612\n",
      "Time for epoch 58 is 154.21557569503784 second\n",
      "LOSS =========> Generator : 33.412757873535156 ___ Discriminator : 0.9900529384613037 ___ PIX_LOSS : 1.3395451307296753\n",
      "Time for epoch 59 is 154.56098103523254 second\n",
      "LOSS =========> Generator : 33.35839080810547 ___ Discriminator : 0.9895960092544556 ___ PIX_LOSS : 1.3409676551818848\n",
      "Saving checkpoint for epoch 60 at /Tama/Checkpoints/pix\\ckpt-6\n",
      "Time for epoch 60 is 159.50965356826782 second\n",
      "LOSS =========> Generator : 33.3048210144043 ___ Discriminator : 0.9891865849494934 ___ PIX_LOSS : 1.3423911333084106\n",
      "Time for epoch 61 is 154.42660474777222 second\n",
      "LOSS =========> Generator : 33.251731872558594 ___ Discriminator : 0.9888564944267273 ___ PIX_LOSS : 1.3436142206192017\n",
      "Time for epoch 62 is 154.4636425971985 second\n",
      "LOSS =========> Generator : 33.19965744018555 ___ Discriminator : 0.9885265231132507 ___ PIX_LOSS : 1.344850778579712\n",
      "Time for epoch 63 is 154.20079040527344 second\n",
      "LOSS =========> Generator : 33.148128509521484 ___ Discriminator : 0.9882871508598328 ___ PIX_LOSS : 1.3459746837615967\n",
      "Time for epoch 64 is 154.50409412384033 second\n",
      "LOSS =========> Generator : 33.09775924682617 ___ Discriminator : 0.9880729913711548 ___ PIX_LOSS : 1.3470072746276855\n",
      "Time for epoch 65 is 154.6501624584198 second\n",
      "LOSS =========> Generator : 33.048423767089844 ___ Discriminator : 0.9880267381668091 ___ PIX_LOSS : 1.3479417562484741\n",
      "Time for epoch 66 is 154.4730613231659 second\n",
      "LOSS =========> Generator : 33.00027084350586 ___ Discriminator : 0.9878774285316467 ___ PIX_LOSS : 1.348840594291687\n",
      "Time for epoch 67 is 154.4004988670349 second\n",
      "LOSS =========> Generator : 32.95331573486328 ___ Discriminator : 0.9878130555152893 ___ PIX_LOSS : 1.3496826887130737\n",
      "Time for epoch 68 is 158.91282176971436 second\n",
      "LOSS =========> Generator : 32.90690994262695 ___ Discriminator : 0.9876899719238281 ___ PIX_LOSS : 1.3505462408065796\n",
      "Time for epoch 69 is 154.62877440452576 second\n",
      "LOSS =========> Generator : 32.86125946044922 ___ Discriminator : 0.9875598549842834 ___ PIX_LOSS : 1.3513087034225464\n",
      "Saving checkpoint for epoch 70 at /Tama/Checkpoints/pix\\ckpt-7\n",
      "Time for epoch 70 is 159.4672930240631 second\n",
      "LOSS =========> Generator : 32.81627655029297 ___ Discriminator : 0.9874675869941711 ___ PIX_LOSS : 1.3520622253417969\n",
      "Time for epoch 71 is 154.1907675266266 second\n",
      "LOSS =========> Generator : 32.77203369140625 ___ Discriminator : 0.987337589263916 ___ PIX_LOSS : 1.3527817726135254\n",
      "Time for epoch 72 is 154.46954584121704 second\n",
      "LOSS =========> Generator : 32.72863006591797 ___ Discriminator : 0.9872705936431885 ___ PIX_LOSS : 1.353495478630066\n",
      "Time for epoch 73 is 154.6013240814209 second\n",
      "LOSS =========> Generator : 32.686065673828125 ___ Discriminator : 0.9872573018074036 ___ PIX_LOSS : 1.354196310043335\n",
      "Time for epoch 74 is 154.4672245979309 second\n",
      "LOSS =========> Generator : 32.64426040649414 ___ Discriminator : 0.9872741103172302 ___ PIX_LOSS : 1.3549143075942993\n",
      "Time for epoch 75 is 154.8164701461792 second\n",
      "LOSS =========> Generator : 32.602806091308594 ___ Discriminator : 0.9873875379562378 ___ PIX_LOSS : 1.3555107116699219\n",
      "Time for epoch 76 is 154.52749752998352 second\n",
      "LOSS =========> Generator : 32.56216049194336 ___ Discriminator : 0.9875220656394958 ___ PIX_LOSS : 1.3560771942138672\n",
      "Time for epoch 77 is 154.38655471801758 second\n",
      "LOSS =========> Generator : 32.52274703979492 ___ Discriminator : 0.987596869468689 ___ PIX_LOSS : 1.3566856384277344\n",
      "Time for epoch 78 is 154.64455318450928 second\n",
      "LOSS =========> Generator : 32.483985900878906 ___ Discriminator : 0.9876152276992798 ___ PIX_LOSS : 1.3572468757629395\n",
      "Time for epoch 79 is 154.4315676689148 second\n",
      "LOSS =========> Generator : 32.4460563659668 ___ Discriminator : 0.9876454472541809 ___ PIX_LOSS : 1.3577955961227417\n",
      "Saving checkpoint for epoch 80 at /Tama/Checkpoints/pix\\ckpt-8\n",
      "Time for epoch 80 is 159.14217042922974 second\n",
      "LOSS =========> Generator : 32.40826416015625 ___ Discriminator : 0.987726092338562 ___ PIX_LOSS : 1.3583002090454102\n",
      "Time for epoch 81 is 153.99084377288818 second\n",
      "LOSS =========> Generator : 32.37107849121094 ___ Discriminator : 0.9877611994743347 ___ PIX_LOSS : 1.3587723970413208\n",
      "Time for epoch 82 is 154.44361352920532 second\n",
      "LOSS =========> Generator : 32.33454132080078 ___ Discriminator : 0.9878864288330078 ___ PIX_LOSS : 1.3592286109924316\n",
      "Time for epoch 83 is 154.7272036075592 second\n",
      "LOSS =========> Generator : 32.29840087890625 ___ Discriminator : 0.9879943132400513 ___ PIX_LOSS : 1.3596365451812744\n",
      "Time for epoch 84 is 154.31721925735474 second\n",
      "LOSS =========> Generator : 32.26293182373047 ___ Discriminator : 0.9881688356399536 ___ PIX_LOSS : 1.360045075416565\n",
      "Time for epoch 85 is 161.20503115653992 second\n",
      "LOSS =========> Generator : 32.22832107543945 ___ Discriminator : 0.9883320927619934 ___ PIX_LOSS : 1.3604687452316284\n",
      "Time for epoch 86 is 155.85502123832703 second\n",
      "LOSS =========> Generator : 32.19387435913086 ___ Discriminator : 0.988472044467926 ___ PIX_LOSS : 1.3608574867248535\n",
      "Time for epoch 87 is 154.4602599143982 second\n",
      "LOSS =========> Generator : 32.16006851196289 ___ Discriminator : 0.9886828660964966 ___ PIX_LOSS : 1.361202359199524\n",
      "Time for epoch 88 is 154.38285398483276 second\n",
      "LOSS =========> Generator : 32.126644134521484 ___ Discriminator : 0.9888924360275269 ___ PIX_LOSS : 1.3615036010742188\n",
      "Time for epoch 89 is 154.1776282787323 second\n",
      "LOSS =========> Generator : 32.093605041503906 ___ Discriminator : 0.9891412854194641 ___ PIX_LOSS : 1.3617786169052124\n",
      "Saving checkpoint for epoch 90 at /Tama/Checkpoints/pix\\ckpt-9\n",
      "Time for epoch 90 is 159.60318565368652 second\n",
      "LOSS =========> Generator : 32.061092376708984 ___ Discriminator : 0.9894015192985535 ___ PIX_LOSS : 1.3620202541351318\n",
      "Time for epoch 91 is 154.47201299667358 second\n",
      "LOSS =========> Generator : 32.0291748046875 ___ Discriminator : 0.9896157383918762 ___ PIX_LOSS : 1.3622671365737915\n",
      "Time for epoch 92 is 154.62830901145935 second\n",
      "LOSS =========> Generator : 31.997817993164062 ___ Discriminator : 0.9898802042007446 ___ PIX_LOSS : 1.3624616861343384\n",
      "Time for epoch 93 is 155.0737977027893 second\n",
      "LOSS =========> Generator : 31.966644287109375 ___ Discriminator : 0.9901833534240723 ___ PIX_LOSS : 1.3626316785812378\n",
      "Time for epoch 94 is 159.9337785243988 second\n",
      "LOSS =========> Generator : 31.935894012451172 ___ Discriminator : 0.9904899001121521 ___ PIX_LOSS : 1.3627934455871582\n",
      "Time for epoch 95 is 155.24521589279175 second\n",
      "LOSS =========> Generator : 31.905681610107422 ___ Discriminator : 0.9908705949783325 ___ PIX_LOSS : 1.3629558086395264\n",
      "Time for epoch 96 is 156.61994695663452 second\n",
      "LOSS =========> Generator : 31.875892639160156 ___ Discriminator : 0.9912176728248596 ___ PIX_LOSS : 1.3630716800689697\n",
      "Time for epoch 97 is 156.1863090991974 second\n",
      "LOSS =========> Generator : 31.846513748168945 ___ Discriminator : 0.9915929436683655 ___ PIX_LOSS : 1.3631314039230347\n"
     ]
    },
    {
     "name": "stdout",
     "output_type": "stream",
     "text": [
      "Time for epoch 98 is 154.56464409828186 second\n",
      "LOSS =========> Generator : 31.817138671875 ___ Discriminator : 0.9920058846473694 ___ PIX_LOSS : 1.3631508350372314\n",
      "Time for epoch 99 is 154.43722224235535 second\n",
      "LOSS =========> Generator : 31.78820037841797 ___ Discriminator : 0.9924378395080566 ___ PIX_LOSS : 1.36312735080719\n",
      "Saving checkpoint for epoch 100 at /Tama/Checkpoints/pix\\ckpt-10\n",
      "Time for epoch 100 is 159.86022806167603 second\n",
      "LOSS =========> Generator : 31.759950637817383 ___ Discriminator : 0.9928516745567322 ___ PIX_LOSS : 1.3631303310394287\n",
      "Generator and Discriminator saved . . .\n",
      "\n",
      "Time for epoch 101 is 154.36719608306885 second\n",
      "LOSS =========> Generator : 31.731958389282227 ___ Discriminator : 0.9932416677474976 ___ PIX_LOSS : 1.3630696535110474\n",
      "Time for epoch 102 is 154.50256156921387 second\n",
      "LOSS =========> Generator : 31.704132080078125 ___ Discriminator : 0.9936674237251282 ___ PIX_LOSS : 1.3629878759384155\n",
      "Time for epoch 103 is 154.46235728263855 second\n",
      "LOSS =========> Generator : 31.67667579650879 ___ Discriminator : 0.9940807819366455 ___ PIX_LOSS : 1.362861156463623\n",
      "Time for epoch 104 is 154.26967787742615 second\n",
      "LOSS =========> Generator : 31.649717330932617 ___ Discriminator : 0.9944456219673157 ___ PIX_LOSS : 1.362745761871338\n",
      "Time for epoch 105 is 154.12732005119324 second\n",
      "LOSS =========> Generator : 31.623075485229492 ___ Discriminator : 0.9947900772094727 ___ PIX_LOSS : 1.3626245260238647\n",
      "Time for epoch 106 is 162.90239238739014 second\n",
      "LOSS =========> Generator : 31.597017288208008 ___ Discriminator : 0.995117723941803 ___ PIX_LOSS : 1.3625351190567017\n",
      "Time for epoch 107 is 154.21116471290588 second\n",
      "LOSS =========> Generator : 31.57114601135254 ___ Discriminator : 0.9954655766487122 ___ PIX_LOSS : 1.362443447113037\n",
      "Time for epoch 108 is 154.37942457199097 second\n",
      "LOSS =========> Generator : 31.545650482177734 ___ Discriminator : 0.9958312511444092 ___ PIX_LOSS : 1.3624043464660645\n",
      "Time for epoch 109 is 154.76953125 second\n",
      "LOSS =========> Generator : 31.52062225341797 ___ Discriminator : 0.9961486458778381 ___ PIX_LOSS : 1.3624553680419922\n",
      "Saving checkpoint for epoch 110 at /Tama/Checkpoints/pix\\ckpt-11\n",
      "Time for epoch 110 is 159.73662662506104 second\n",
      "LOSS =========> Generator : 31.49612045288086 ___ Discriminator : 0.9964410662651062 ___ PIX_LOSS : 1.362686038017273\n",
      "Time for epoch 111 is 154.65420961380005 second\n",
      "LOSS =========> Generator : 31.472196578979492 ___ Discriminator : 0.9966364502906799 ___ PIX_LOSS : 1.3629924058914185\n",
      "Time for epoch 112 is 155.7177596092224 second\n",
      "LOSS =========> Generator : 31.4486141204834 ___ Discriminator : 0.9967520833015442 ___ PIX_LOSS : 1.363361120223999\n",
      "Time for epoch 113 is 155.73374462127686 second\n",
      "LOSS =========> Generator : 31.425289154052734 ___ Discriminator : 0.9968517422676086 ___ PIX_LOSS : 1.3637588024139404\n",
      "Time for epoch 114 is 155.0754759311676 second\n",
      "LOSS =========> Generator : 31.4022274017334 ___ Discriminator : 0.9969226717948914 ___ PIX_LOSS : 1.3641390800476074\n",
      "Time for epoch 115 is 154.69470286369324 second\n",
      "LOSS =========> Generator : 31.37952995300293 ___ Discriminator : 0.9969688057899475 ___ PIX_LOSS : 1.3645682334899902\n",
      "Time for epoch 116 is 154.54249119758606 second\n",
      "LOSS =========> Generator : 31.357074737548828 ___ Discriminator : 0.997055172920227 ___ PIX_LOSS : 1.3649450540542603\n",
      "Time for epoch 117 is 154.73777842521667 second\n",
      "LOSS =========> Generator : 31.33493423461914 ___ Discriminator : 0.9971626400947571 ___ PIX_LOSS : 1.3653044700622559\n",
      "Time for epoch 118 is 155.10407996177673 second\n",
      "LOSS =========> Generator : 31.31310272216797 ___ Discriminator : 0.997276782989502 ___ PIX_LOSS : 1.3656233549118042\n",
      "Time for epoch 119 is 157.46218252182007 second\n",
      "LOSS =========> Generator : 31.291603088378906 ___ Discriminator : 0.9974661469459534 ___ PIX_LOSS : 1.365957260131836\n",
      "Saving checkpoint for epoch 120 at /Tama/Checkpoints/pix\\ckpt-12\n",
      "Time for epoch 120 is 160.1580901145935 second\n",
      "LOSS =========> Generator : 31.270240783691406 ___ Discriminator : 0.9975816607475281 ___ PIX_LOSS : 1.3662433624267578\n",
      "Time for epoch 121 is 154.85462522506714 second\n",
      "LOSS =========> Generator : 31.249032974243164 ___ Discriminator : 0.9977461695671082 ___ PIX_LOSS : 1.3664873838424683\n",
      "Time for epoch 122 is 154.6949815750122 second\n",
      "LOSS =========> Generator : 31.227962493896484 ___ Discriminator : 0.997871994972229 ___ PIX_LOSS : 1.3667237758636475\n",
      "Time for epoch 123 is 154.6378297805786 second\n",
      "LOSS =========> Generator : 31.207298278808594 ___ Discriminator : 0.9979895949363708 ___ PIX_LOSS : 1.3669594526290894\n",
      "Time for epoch 124 is 154.67044854164124 second\n",
      "LOSS =========> Generator : 31.18701171875 ___ Discriminator : 0.9981359243392944 ___ PIX_LOSS : 1.3671897649765015\n",
      "Time for epoch 125 is 155.3559112548828 second\n",
      "LOSS =========> Generator : 31.166976928710938 ___ Discriminator : 0.9982656836509705 ___ PIX_LOSS : 1.367423415184021\n",
      "Time for epoch 126 is 154.6289417743683 second\n",
      "LOSS =========> Generator : 31.146989822387695 ___ Discriminator : 0.9984265565872192 ___ PIX_LOSS : 1.3676104545593262\n",
      "Time for epoch 127 is 154.46452713012695 second\n",
      "LOSS =========> Generator : 31.127168655395508 ___ Discriminator : 0.9986183643341064 ___ PIX_LOSS : 1.3677436113357544\n",
      "Time for epoch 128 is 154.60772824287415 second\n",
      "LOSS =========> Generator : 31.107624053955078 ___ Discriminator : 0.9987912178039551 ___ PIX_LOSS : 1.3678627014160156\n",
      "Time for epoch 129 is 155.1124768257141 second\n",
      "LOSS =========> Generator : 31.08822250366211 ___ Discriminator : 0.9989638328552246 ___ PIX_LOSS : 1.3680206537246704\n",
      "Saving checkpoint for epoch 130 at /Tama/Checkpoints/pix\\ckpt-13\n",
      "Time for epoch 130 is 159.42233848571777 second\n",
      "LOSS =========> Generator : 31.068866729736328 ___ Discriminator : 0.9991199970245361 ___ PIX_LOSS : 1.3681029081344604\n",
      "Time for epoch 131 is 154.2045431137085 second\n",
      "LOSS =========> Generator : 31.0497989654541 ___ Discriminator : 0.9993248581886292 ___ PIX_LOSS : 1.3682113885879517\n",
      "Time for epoch 132 is 154.7592945098877 second\n",
      "LOSS =========> Generator : 31.03089714050293 ___ Discriminator : 0.9995238184928894 ___ PIX_LOSS : 1.3682749271392822\n",
      "Time for epoch 133 is 163.74223041534424 second\n",
      "LOSS =========> Generator : 31.01242446899414 ___ Discriminator : 0.9997462630271912 ___ PIX_LOSS : 1.3683608770370483\n",
      "Time for epoch 134 is 154.39599609375 second\n",
      "LOSS =========> Generator : 30.99411964416504 ___ Discriminator : 0.9999844431877136 ___ PIX_LOSS : 1.3684495687484741\n",
      "Time for epoch 135 is 154.61170029640198 second\n",
      "LOSS =========> Generator : 30.97610855102539 ___ Discriminator : 1.0001778602600098 ___ PIX_LOSS : 1.368546724319458\n",
      "Time for epoch 136 is 157.96434545516968 second\n",
      "LOSS =========> Generator : 30.958282470703125 ___ Discriminator : 1.0004163980484009 ___ PIX_LOSS : 1.3686258792877197\n",
      "Time for epoch 137 is 156.5150101184845 second\n",
      "LOSS =========> Generator : 30.940488815307617 ___ Discriminator : 1.0006359815597534 ___ PIX_LOSS : 1.3686716556549072\n",
      "Time for epoch 138 is 154.85068488121033 second\n",
      "LOSS =========> Generator : 30.922866821289062 ___ Discriminator : 1.0008774995803833 ___ PIX_LOSS : 1.3686941862106323\n",
      "Time for epoch 139 is 154.61689925193787 second\n",
      "LOSS =========> Generator : 30.905460357666016 ___ Discriminator : 1.0011310577392578 ___ PIX_LOSS : 1.3687318563461304\n",
      "Saving checkpoint for epoch 140 at /Tama/Checkpoints/pix\\ckpt-14\n",
      "Time for epoch 140 is 160.00354194641113 second\n",
      "LOSS =========> Generator : 30.88809585571289 ___ Discriminator : 1.0014046430587769 ___ PIX_LOSS : 1.3687512874603271\n",
      "Time for epoch 141 is 154.4653549194336 second\n",
      "LOSS =========> Generator : 30.870891571044922 ___ Discriminator : 1.001674771308899 ___ PIX_LOSS : 1.3687421083450317\n",
      "Time for epoch 142 is 154.81509041786194 second\n",
      "LOSS =========> Generator : 30.853866577148438 ___ Discriminator : 1.0019181966781616 ___ PIX_LOSS : 1.3687230348587036\n",
      "Time for epoch 143 is 154.50055932998657 second\n",
      "LOSS =========> Generator : 30.837116241455078 ___ Discriminator : 1.0021628141403198 ___ PIX_LOSS : 1.3686883449554443\n",
      "Time for epoch 144 is 155.27696061134338 second\n",
      "LOSS =========> Generator : 30.82054901123047 ___ Discriminator : 1.0023674964904785 ___ PIX_LOSS : 1.3686555624008179\n"
     ]
    },
    {
     "name": "stdout",
     "output_type": "stream",
     "text": [
      "Time for epoch 145 is 155.00188326835632 second\n",
      "LOSS =========> Generator : 30.804153442382812 ___ Discriminator : 1.0025510787963867 ___ PIX_LOSS : 1.3686217069625854\n",
      "Time for epoch 146 is 154.62129473686218 second\n",
      "LOSS =========> Generator : 30.7879581451416 ___ Discriminator : 1.0027844905853271 ___ PIX_LOSS : 1.3685985803604126\n",
      "Time for epoch 147 is 154.86914610862732 second\n",
      "LOSS =========> Generator : 30.771745681762695 ___ Discriminator : 1.0029869079589844 ___ PIX_LOSS : 1.3685740232467651\n",
      "Time for epoch 148 is 154.7064516544342 second\n",
      "LOSS =========> Generator : 30.755720138549805 ___ Discriminator : 1.0031991004943848 ___ PIX_LOSS : 1.368525743484497\n",
      "Time for epoch 149 is 155.1988079547882 second\n",
      "LOSS =========> Generator : 30.739952087402344 ___ Discriminator : 1.0034136772155762 ___ PIX_LOSS : 1.3685022592544556\n",
      "Saving checkpoint for epoch 150 at /Tama/Checkpoints/pix\\ckpt-15\n",
      "Time for epoch 150 is 159.56907033920288 second\n",
      "LOSS =========> Generator : 30.72420883178711 ___ Discriminator : 1.0036500692367554 ___ PIX_LOSS : 1.3684848546981812\n",
      "Time for epoch 151 is 154.5155427455902 second\n",
      "LOSS =========> Generator : 30.708738327026367 ___ Discriminator : 1.0038737058639526 ___ PIX_LOSS : 1.3684728145599365\n",
      "Time for epoch 152 is 155.5513288974762 second\n",
      "LOSS =========> Generator : 30.693330764770508 ___ Discriminator : 1.0040843486785889 ___ PIX_LOSS : 1.3684742450714111\n",
      "Time for epoch 153 is 154.61915922164917 second\n",
      "LOSS =========> Generator : 30.678085327148438 ___ Discriminator : 1.0042779445648193 ___ PIX_LOSS : 1.3684697151184082\n",
      "Time for epoch 154 is 154.65910696983337 second\n",
      "LOSS =========> Generator : 30.663021087646484 ___ Discriminator : 1.0044689178466797 ___ PIX_LOSS : 1.3684515953063965\n",
      "Time for epoch 155 is 154.6994960308075 second\n",
      "LOSS =========> Generator : 30.648298263549805 ___ Discriminator : 1.0046563148498535 ___ PIX_LOSS : 1.3686041831970215\n",
      "Time for epoch 156 is 155.03462862968445 second\n",
      "LOSS =========> Generator : 30.63365936279297 ___ Discriminator : 1.0048538446426392 ___ PIX_LOSS : 1.3686872720718384\n",
      "Time for epoch 157 is 154.47965025901794 second\n",
      "LOSS =========> Generator : 30.619050979614258 ___ Discriminator : 1.0050477981567383 ___ PIX_LOSS : 1.3686771392822266\n",
      "Time for epoch 158 is 154.89043259620667 second\n",
      "LOSS =========> Generator : 30.6046142578125 ___ Discriminator : 1.005220651626587 ___ PIX_LOSS : 1.3686902523040771\n",
      "Time for epoch 159 is 154.85242319107056 second\n",
      "LOSS =========> Generator : 30.590232849121094 ___ Discriminator : 1.0054112672805786 ___ PIX_LOSS : 1.3686782121658325\n",
      "Saving checkpoint for epoch 160 at /Tama/Checkpoints/pix\\ckpt-16\n",
      "Time for epoch 160 is 159.74885416030884 second\n",
      "LOSS =========> Generator : 30.576143264770508 ___ Discriminator : 1.0055485963821411 ___ PIX_LOSS : 1.3687598705291748\n",
      "Time for epoch 161 is 155.22136306762695 second\n",
      "LOSS =========> Generator : 30.56216049194336 ___ Discriminator : 1.0057028532028198 ___ PIX_LOSS : 1.3687822818756104\n",
      "Time for epoch 162 is 155.18954420089722 second\n",
      "LOSS =========> Generator : 30.54827880859375 ___ Discriminator : 1.005867600440979 ___ PIX_LOSS : 1.368812918663025\n",
      "Time for epoch 163 is 154.9287929534912 second\n",
      "LOSS =========> Generator : 30.53458023071289 ___ Discriminator : 1.005965232849121 ___ PIX_LOSS : 1.3688873052597046\n",
      "Time for epoch 164 is 154.74262022972107 second\n",
      "LOSS =========> Generator : 30.521038055419922 ___ Discriminator : 1.0060672760009766 ___ PIX_LOSS : 1.3689548969268799\n",
      "Time for epoch 165 is 154.87941932678223 second\n",
      "LOSS =========> Generator : 30.507740020751953 ___ Discriminator : 1.0061908960342407 ___ PIX_LOSS : 1.3691502809524536\n",
      "Time for epoch 166 is 166.4472155570984 second\n",
      "LOSS =========> Generator : 30.494626998901367 ___ Discriminator : 1.0062499046325684 ___ PIX_LOSS : 1.3693475723266602\n",
      "Time for epoch 167 is 154.83709526062012 second\n",
      "LOSS =========> Generator : 30.48169708251953 ___ Discriminator : 1.0062716007232666 ___ PIX_LOSS : 1.3696846961975098\n",
      "Time for epoch 168 is 154.93132615089417 second\n",
      "LOSS =========> Generator : 30.469240188598633 ___ Discriminator : 1.0061283111572266 ___ PIX_LOSS : 1.3702857494354248\n",
      "Time for epoch 169 is 155.03857588768005 second\n",
      "LOSS =========> Generator : 30.45714569091797 ___ Discriminator : 1.0059431791305542 ___ PIX_LOSS : 1.3709843158721924\n",
      "Saving checkpoint for epoch 170 at /Tama/Checkpoints/pix\\ckpt-17\n",
      "Time for epoch 170 is 160.2653305530548 second\n",
      "LOSS =========> Generator : 30.44509506225586 ___ Discriminator : 1.005692720413208 ___ PIX_LOSS : 1.3716814517974854\n",
      "Time for epoch 171 is 156.88507604599 second\n",
      "LOSS =========> Generator : 30.433332443237305 ___ Discriminator : 1.0053750276565552 ___ PIX_LOSS : 1.3724501132965088\n",
      "Time for epoch 172 is 155.04931640625 second\n",
      "LOSS =========> Generator : 30.421804428100586 ___ Discriminator : 1.0049561262130737 ___ PIX_LOSS : 1.3733711242675781\n",
      "Time for epoch 173 is 155.55037021636963 second\n",
      "LOSS =========> Generator : 30.410600662231445 ___ Discriminator : 1.0045148134231567 ___ PIX_LOSS : 1.3744210004806519\n",
      "Time for epoch 174 is 154.4890010356903 second\n",
      "LOSS =========> Generator : 30.399343490600586 ___ Discriminator : 1.004143238067627 ___ PIX_LOSS : 1.375307559967041\n",
      "Time for epoch 175 is 155.38864493370056 second\n",
      "LOSS =========> Generator : 30.3880672454834 ___ Discriminator : 1.0037848949432373 ___ PIX_LOSS : 1.3761414289474487\n",
      "Time for epoch 176 is 154.9222173690796 second\n",
      "LOSS =========> Generator : 30.376779556274414 ___ Discriminator : 1.003486156463623 ___ PIX_LOSS : 1.3769218921661377\n",
      "Time for epoch 177 is 154.5801990032196 second\n",
      "LOSS =========> Generator : 30.36553955078125 ___ Discriminator : 1.0031790733337402 ___ PIX_LOSS : 1.3776674270629883\n",
      "Time for epoch 178 is 154.80871748924255 second\n",
      "LOSS =========> Generator : 30.354345321655273 ___ Discriminator : 1.0029500722885132 ___ PIX_LOSS : 1.3783698081970215\n",
      "Time for epoch 179 is 154.71574926376343 second\n",
      "LOSS =========> Generator : 30.343273162841797 ___ Discriminator : 1.002672791481018 ___ PIX_LOSS : 1.3790583610534668\n",
      "Saving checkpoint for epoch 180 at /Tama/Checkpoints/pix\\ckpt-18\n",
      "Time for epoch 180 is 160.09784841537476 second\n",
      "LOSS =========> Generator : 30.332353591918945 ___ Discriminator : 1.0024198293685913 ___ PIX_LOSS : 1.379714012145996\n",
      "Time for epoch 181 is 154.5497386455536 second\n",
      "LOSS =========> Generator : 30.321552276611328 ___ Discriminator : 1.0022146701812744 ___ PIX_LOSS : 1.380361795425415\n",
      "Time for epoch 182 is 154.7406711578369 second\n",
      "LOSS =========> Generator : 30.3107852935791 ___ Discriminator : 1.002089023590088 ___ PIX_LOSS : 1.3809809684753418\n",
      "Time for epoch 183 is 155.15172719955444 second\n",
      "LOSS =========> Generator : 30.30011558532715 ___ Discriminator : 1.0019290447235107 ___ PIX_LOSS : 1.3815829753875732\n",
      "Time for epoch 184 is 154.60768365859985 second\n",
      "LOSS =========> Generator : 30.28951644897461 ___ Discriminator : 1.0017551183700562 ___ PIX_LOSS : 1.3821638822555542\n",
      "Time for epoch 185 is 154.85578751564026 second\n",
      "LOSS =========> Generator : 30.278886795043945 ___ Discriminator : 1.0016547441482544 ___ PIX_LOSS : 1.3826924562454224\n",
      "Time for epoch 186 is 154.44117093086243 second\n",
      "LOSS =========> Generator : 30.26833152770996 ___ Discriminator : 1.0015519857406616 ___ PIX_LOSS : 1.3831760883331299\n",
      "Time for epoch 187 is 155.08812594413757 second\n",
      "LOSS =========> Generator : 30.257938385009766 ___ Discriminator : 1.001462459564209 ___ PIX_LOSS : 1.3837463855743408\n",
      "Time for epoch 188 is 154.94353985786438 second\n",
      "LOSS =========> Generator : 30.247591018676758 ___ Discriminator : 1.0014005899429321 ___ PIX_LOSS : 1.384239673614502\n",
      "Time for epoch 189 is 155.11278462409973 second\n",
      "LOSS =========> Generator : 30.237302780151367 ___ Discriminator : 1.0013587474822998 ___ PIX_LOSS : 1.3847055435180664\n",
      "Saving checkpoint for epoch 190 at /Tama/Checkpoints/pix\\ckpt-19\n",
      "Time for epoch 190 is 159.94908142089844 second\n",
      "LOSS =========> Generator : 30.227006912231445 ___ Discriminator : 1.0013025999069214 ___ PIX_LOSS : 1.385114312171936\n",
      "Time for epoch 191 is 154.89985513687134 second\n",
      "LOSS =========> Generator : 30.216886520385742 ___ Discriminator : 1.0012627840042114 ___ PIX_LOSS : 1.385502815246582\n",
      "Time for epoch 192 is 156.00194811820984 second\n",
      "LOSS =========> Generator : 30.206804275512695 ___ Discriminator : 1.0012445449829102 ___ PIX_LOSS : 1.3858824968338013\n"
     ]
    },
    {
     "name": "stdout",
     "output_type": "stream",
     "text": [
      "Time for epoch 193 is 154.80027985572815 second\n",
      "LOSS =========> Generator : 30.196813583374023 ___ Discriminator : 1.001226544380188 ___ PIX_LOSS : 1.3862603902816772\n",
      "Time for epoch 194 is 154.79350447654724 second\n",
      "LOSS =========> Generator : 30.1868839263916 ___ Discriminator : 1.0012403726577759 ___ PIX_LOSS : 1.3865995407104492\n",
      "Time for epoch 195 is 154.81353092193604 second\n",
      "LOSS =========> Generator : 30.17700958251953 ___ Discriminator : 1.001275658607483 ___ PIX_LOSS : 1.3869335651397705\n",
      "Time for epoch 196 is 155.23250269889832 second\n",
      "LOSS =========> Generator : 30.167192459106445 ___ Discriminator : 1.0012954473495483 ___ PIX_LOSS : 1.3872416019439697\n",
      "Time for epoch 197 is 156.44113302230835 second\n",
      "LOSS =========> Generator : 30.157438278198242 ___ Discriminator : 1.0013518333435059 ___ PIX_LOSS : 1.387559175491333\n",
      "Time for epoch 198 is 155.00311040878296 second\n",
      "LOSS =========> Generator : 30.147661209106445 ___ Discriminator : 1.0014173984527588 ___ PIX_LOSS : 1.3878326416015625\n",
      "Time for epoch 199 is 154.94034719467163 second\n",
      "LOSS =========> Generator : 30.137941360473633 ___ Discriminator : 1.001465916633606 ___ PIX_LOSS : 1.3880711793899536\n",
      "Saving checkpoint for epoch 200 at /Tama/Checkpoints/pix\\ckpt-20\n",
      "Time for epoch 200 is 159.83397960662842 second\n",
      "LOSS =========> Generator : 30.12827491760254 ___ Discriminator : 1.0016090869903564 ___ PIX_LOSS : 1.388299584388733\n",
      "Generator and Discriminator saved . . .\n",
      "\n",
      "Time for epoch 201 is 155.1550648212433 second\n",
      "LOSS =========> Generator : 30.11870574951172 ___ Discriminator : 1.0016998052597046 ___ PIX_LOSS : 1.3885223865509033\n",
      "Time for epoch 202 is 154.7478220462799 second\n",
      "LOSS =========> Generator : 30.10917091369629 ___ Discriminator : 1.0018401145935059 ___ PIX_LOSS : 1.3887330293655396\n",
      "Time for epoch 203 is 154.9516839981079 second\n",
      "LOSS =========> Generator : 30.099618911743164 ___ Discriminator : 1.001971960067749 ___ PIX_LOSS : 1.3888863325119019\n",
      "Time for epoch 204 is 154.84146904945374 second\n",
      "LOSS =========> Generator : 30.090131759643555 ___ Discriminator : 1.0020893812179565 ___ PIX_LOSS : 1.3890211582183838\n",
      "Time for epoch 205 is 154.74893450737 second\n",
      "LOSS =========> Generator : 30.080753326416016 ___ Discriminator : 1.0021780729293823 ___ PIX_LOSS : 1.3891432285308838\n",
      "Time for epoch 206 is 155.48153376579285 second\n",
      "LOSS =========> Generator : 30.071430206298828 ___ Discriminator : 1.0022900104522705 ___ PIX_LOSS : 1.3893104791641235\n",
      "Time for epoch 207 is 154.84739446640015 second\n",
      "LOSS =========> Generator : 30.062131881713867 ___ Discriminator : 1.0024067163467407 ___ PIX_LOSS : 1.3894227743148804\n",
      "Time for epoch 208 is 174.07532143592834 second\n",
      "LOSS =========> Generator : 30.052879333496094 ___ Discriminator : 1.0025540590286255 ___ PIX_LOSS : 1.3895072937011719\n",
      "Time for epoch 209 is 161.73615074157715 second\n",
      "LOSS =========> Generator : 30.043699264526367 ___ Discriminator : 1.0026856660842896 ___ PIX_LOSS : 1.389589548110962\n",
      "Saving checkpoint for epoch 210 at /Tama/Checkpoints/pix\\ckpt-21\n",
      "Time for epoch 210 is 159.79062843322754 second\n",
      "LOSS =========> Generator : 30.034574508666992 ___ Discriminator : 1.0028012990951538 ___ PIX_LOSS : 1.389655351638794\n",
      "Time for epoch 211 is 154.93927669525146 second\n",
      "LOSS =========> Generator : 30.025531768798828 ___ Discriminator : 1.0029172897338867 ___ PIX_LOSS : 1.3897048234939575\n",
      "Time for epoch 212 is 155.65222239494324 second\n",
      "LOSS =========> Generator : 30.016557693481445 ___ Discriminator : 1.0030534267425537 ___ PIX_LOSS : 1.3897895812988281\n",
      "Time for epoch 213 is 155.23904824256897 second\n",
      "LOSS =========> Generator : 30.007604598999023 ___ Discriminator : 1.0031720399856567 ___ PIX_LOSS : 1.3898375034332275\n",
      "Time for epoch 214 is 155.31152772903442 second\n",
      "LOSS =========> Generator : 29.998762130737305 ___ Discriminator : 1.00332510471344 ___ PIX_LOSS : 1.389894723892212\n",
      "Time for epoch 215 is 154.82911109924316 second\n",
      "LOSS =========> Generator : 29.989925384521484 ___ Discriminator : 1.0034481287002563 ___ PIX_LOSS : 1.3899173736572266\n",
      "Time for epoch 216 is 154.9381399154663 second\n",
      "LOSS =========> Generator : 29.98110580444336 ___ Discriminator : 1.0036416053771973 ___ PIX_LOSS : 1.3899480104446411\n",
      "Time for epoch 217 is 156.82285284996033 second\n",
      "LOSS =========> Generator : 29.972414016723633 ___ Discriminator : 1.0038341283798218 ___ PIX_LOSS : 1.3900187015533447\n",
      "Time for epoch 218 is 154.9944245815277 second\n",
      "LOSS =========> Generator : 29.96367073059082 ___ Discriminator : 1.0039939880371094 ___ PIX_LOSS : 1.390038251876831\n",
      "Time for epoch 219 is 154.8244550228119 second\n",
      "LOSS =========> Generator : 29.954885482788086 ___ Discriminator : 1.0041500329971313 ___ PIX_LOSS : 1.3900090456008911\n",
      "Saving checkpoint for epoch 220 at /Tama/Checkpoints/pix\\ckpt-22\n",
      "Time for epoch 220 is 159.80700182914734 second\n",
      "LOSS =========> Generator : 29.946197509765625 ___ Discriminator : 1.0043110847473145 ___ PIX_LOSS : 1.3900102376937866\n",
      "Time for epoch 221 is 155.0846917629242 second\n",
      "LOSS =========> Generator : 29.937650680541992 ___ Discriminator : 1.0044702291488647 ___ PIX_LOSS : 1.390015959739685\n",
      "Time for epoch 222 is 154.8502848148346 second\n",
      "LOSS =========> Generator : 29.929176330566406 ___ Discriminator : 1.0046274662017822 ___ PIX_LOSS : 1.3900407552719116\n",
      "Time for epoch 223 is 155.3403537273407 second\n",
      "LOSS =========> Generator : 29.920827865600586 ___ Discriminator : 1.0048333406448364 ___ PIX_LOSS : 1.3900574445724487\n",
      "Time for epoch 224 is 157.00700426101685 second\n",
      "LOSS =========> Generator : 29.912540435791016 ___ Discriminator : 1.0049890279769897 ___ PIX_LOSS : 1.3900668621063232\n",
      "Time for epoch 225 is 155.13490223884583 second\n",
      "LOSS =========> Generator : 29.904205322265625 ___ Discriminator : 1.005167841911316 ___ PIX_LOSS : 1.390036940574646\n",
      "Time for epoch 226 is 155.21253037452698 second\n",
      "LOSS =========> Generator : 29.895986557006836 ___ Discriminator : 1.0053610801696777 ___ PIX_LOSS : 1.3900169134140015\n",
      "Time for epoch 227 is 154.9481463432312 second\n",
      "LOSS =========> Generator : 29.887792587280273 ___ Discriminator : 1.005560040473938 ___ PIX_LOSS : 1.3899987936019897\n",
      "Time for epoch 228 is 155.54777812957764 second\n",
      "LOSS =========> Generator : 29.879661560058594 ___ Discriminator : 1.0057594776153564 ___ PIX_LOSS : 1.389995813369751\n",
      "Time for epoch 229 is 156.6105661392212 second\n",
      "LOSS =========> Generator : 29.871606826782227 ___ Discriminator : 1.0059878826141357 ___ PIX_LOSS : 1.3899747133255005\n",
      "Saving checkpoint for epoch 230 at /Tama/Checkpoints/pix\\ckpt-23\n",
      "Time for epoch 230 is 160.40923357009888 second\n",
      "LOSS =========> Generator : 29.86354637145996 ___ Discriminator : 1.0062472820281982 ___ PIX_LOSS : 1.389938473701477\n",
      "Time for epoch 231 is 157.19151830673218 second\n",
      "LOSS =========> Generator : 29.85550880432129 ___ Discriminator : 1.0064492225646973 ___ PIX_LOSS : 1.3898813724517822\n",
      "Time for epoch 232 is 157.13090109825134 second\n",
      "LOSS =========> Generator : 29.84748649597168 ___ Discriminator : 1.0066072940826416 ___ PIX_LOSS : 1.3898065090179443\n",
      "Time for epoch 233 is 157.92573261260986 second\n",
      "LOSS =========> Generator : 29.83954620361328 ___ Discriminator : 1.0067344903945923 ___ PIX_LOSS : 1.389737844467163\n",
      "Time for epoch 234 is 156.4032905101776 second\n",
      "LOSS =========> Generator : 29.831602096557617 ___ Discriminator : 1.0068705081939697 ___ PIX_LOSS : 1.3896448612213135\n",
      "Time for epoch 235 is 157.16159915924072 second\n",
      "LOSS =========> Generator : 29.82369041442871 ___ Discriminator : 1.0070123672485352 ___ PIX_LOSS : 1.3895403146743774\n",
      "Time for epoch 236 is 157.6799910068512 second\n",
      "LOSS =========> Generator : 29.815868377685547 ___ Discriminator : 1.0071386098861694 ___ PIX_LOSS : 1.3894513845443726\n",
      "Time for epoch 237 is 156.28490042686462 second\n",
      "LOSS =========> Generator : 29.808137893676758 ___ Discriminator : 1.007273554801941 ___ PIX_LOSS : 1.3893753290176392\n",
      "Time for epoch 238 is 156.06756973266602 second\n",
      "LOSS =========> Generator : 29.80040740966797 ___ Discriminator : 1.0074169635772705 ___ PIX_LOSS : 1.3892815113067627\n",
      "Time for epoch 239 is 156.85978889465332 second\n",
      "LOSS =========> Generator : 29.792760848999023 ___ Discriminator : 1.0075602531433105 ___ PIX_LOSS : 1.3891997337341309\n",
      "Saving checkpoint for epoch 240 at /Tama/Checkpoints/pix\\ckpt-24\n",
      "Time for epoch 240 is 161.51529669761658 second\n",
      "LOSS =========> Generator : 29.78509521484375 ___ Discriminator : 1.007688045501709 ___ PIX_LOSS : 1.3891289234161377\n"
     ]
    },
    {
     "name": "stdout",
     "output_type": "stream",
     "text": [
      "Time for epoch 241 is 156.18065094947815 second\n",
      "LOSS =========> Generator : 29.777433395385742 ___ Discriminator : 1.0078223943710327 ___ PIX_LOSS : 1.3890055418014526\n",
      "Time for epoch 242 is 155.84066462516785 second\n",
      "LOSS =========> Generator : 29.769807815551758 ___ Discriminator : 1.0079741477966309 ___ PIX_LOSS : 1.3888914585113525\n",
      "Time for epoch 243 is 155.55600762367249 second\n",
      "LOSS =========> Generator : 29.762250900268555 ___ Discriminator : 1.0081590414047241 ___ PIX_LOSS : 1.3887852430343628\n",
      "Time for epoch 244 is 155.74999141693115 second\n",
      "LOSS =========> Generator : 29.75478172302246 ___ Discriminator : 1.0082988739013672 ___ PIX_LOSS : 1.388690710067749\n",
      "Time for epoch 245 is 156.48629522323608 second\n",
      "LOSS =========> Generator : 29.747413635253906 ___ Discriminator : 1.008421540260315 ___ PIX_LOSS : 1.3885860443115234\n",
      "Time for epoch 246 is 155.89687156677246 second\n",
      "LOSS =========> Generator : 29.74004364013672 ___ Discriminator : 1.0085735321044922 ___ PIX_LOSS : 1.388503074645996\n",
      "Time for epoch 247 is 155.83340573310852 second\n",
      "LOSS =========> Generator : 29.732702255249023 ___ Discriminator : 1.0087125301361084 ___ PIX_LOSS : 1.3884040117263794\n",
      "Time for epoch 248 is 155.70352268218994 second\n",
      "LOSS =========> Generator : 29.725366592407227 ___ Discriminator : 1.008830189704895 ___ PIX_LOSS : 1.3882901668548584\n",
      "Time for epoch 249 is 155.40595078468323 second\n",
      "LOSS =========> Generator : 29.718128204345703 ___ Discriminator : 1.008970856666565 ___ PIX_LOSS : 1.38819420337677\n",
      "Saving checkpoint for epoch 250 at /Tama/Checkpoints/pix\\ckpt-25\n",
      "Time for epoch 250 is 160.50871467590332 second\n",
      "LOSS =========> Generator : 29.710988998413086 ___ Discriminator : 1.009095549583435 ___ PIX_LOSS : 1.388129472732544\n",
      "Time for epoch 251 is 156.11143732070923 second\n",
      "LOSS =========> Generator : 29.70388412475586 ___ Discriminator : 1.0092289447784424 ___ PIX_LOSS : 1.388124704360962\n",
      "Time for epoch 252 is 155.93864750862122 second\n",
      "LOSS =========> Generator : 29.69679832458496 ___ Discriminator : 1.0093783140182495 ___ PIX_LOSS : 1.38809072971344\n",
      "Time for epoch 253 is 157.5299174785614 second\n",
      "LOSS =========> Generator : 29.689695358276367 ___ Discriminator : 1.009500503540039 ___ PIX_LOSS : 1.3880149126052856\n",
      "Time for epoch 254 is 158.3733515739441 second\n",
      "LOSS =========> Generator : 29.682737350463867 ___ Discriminator : 1.009638786315918 ___ PIX_LOSS : 1.3880106210708618\n",
      "Time for epoch 255 is 155.5280156135559 second\n",
      "LOSS =========> Generator : 29.675872802734375 ___ Discriminator : 1.0097368955612183 ___ PIX_LOSS : 1.3880279064178467\n",
      "Time for epoch 256 is 156.04833483695984 second\n",
      "LOSS =========> Generator : 29.669038772583008 ___ Discriminator : 1.0098676681518555 ___ PIX_LOSS : 1.388035535812378\n",
      "Time for epoch 257 is 156.25753331184387 second\n",
      "LOSS =========> Generator : 29.662199020385742 ___ Discriminator : 1.0099917650222778 ___ PIX_LOSS : 1.3880285024642944\n",
      "Time for epoch 258 is 155.77771997451782 second\n",
      "LOSS =========> Generator : 29.655420303344727 ___ Discriminator : 1.0101141929626465 ___ PIX_LOSS : 1.3879762887954712\n",
      "Time for epoch 259 is 292.47796726226807 second\n",
      "LOSS =========> Generator : 29.64872169494629 ___ Discriminator : 1.0101946592330933 ___ PIX_LOSS : 1.3879880905151367\n",
      "Saving checkpoint for epoch 260 at /Tama/Checkpoints/pix\\ckpt-26\n",
      "Time for epoch 260 is 183.5538740158081 second\n",
      "LOSS =========> Generator : 29.64201545715332 ___ Discriminator : 1.0102856159210205 ___ PIX_LOSS : 1.3879404067993164\n",
      "Time for epoch 261 is 165.07706356048584 second\n",
      "LOSS =========> Generator : 29.63532066345215 ___ Discriminator : 1.0104267597198486 ___ PIX_LOSS : 1.3878731727600098\n",
      "Time for epoch 262 is 162.46071600914001 second\n",
      "LOSS =========> Generator : 29.628704071044922 ___ Discriminator : 1.010528564453125 ___ PIX_LOSS : 1.3878374099731445\n",
      "Time for epoch 263 is 157.8877580165863 second\n",
      "LOSS =========> Generator : 29.622163772583008 ___ Discriminator : 1.0106098651885986 ___ PIX_LOSS : 1.3878108263015747\n",
      "Time for epoch 264 is 155.5781750679016 second\n",
      "LOSS =========> Generator : 29.61567497253418 ___ Discriminator : 1.0107061862945557 ___ PIX_LOSS : 1.3877977132797241\n",
      "Time for epoch 265 is 155.79220175743103 second\n",
      "LOSS =========> Generator : 29.60915756225586 ___ Discriminator : 1.0108336210250854 ___ PIX_LOSS : 1.3877586126327515\n",
      "Time for epoch 266 is 155.6238911151886 second\n",
      "LOSS =========> Generator : 29.602664947509766 ___ Discriminator : 1.0109715461730957 ___ PIX_LOSS : 1.387688398361206\n",
      "Time for epoch 267 is 156.89260935783386 second\n",
      "LOSS =========> Generator : 29.596128463745117 ___ Discriminator : 1.0111138820648193 ___ PIX_LOSS : 1.387596607208252\n",
      "Time for epoch 268 is 155.55900263786316 second\n",
      "LOSS =========> Generator : 29.58975601196289 ___ Discriminator : 1.011220932006836 ___ PIX_LOSS : 1.3875519037246704\n",
      "Time for epoch 269 is 155.49820113182068 second\n",
      "LOSS =========> Generator : 29.58334732055664 ___ Discriminator : 1.011373519897461 ___ PIX_LOSS : 1.387528419494629\n",
      "Saving checkpoint for epoch 270 at /Tama/Checkpoints/pix\\ckpt-27\n",
      "Time for epoch 270 is 160.51769018173218 second\n",
      "LOSS =========> Generator : 29.576921463012695 ___ Discriminator : 1.0115069150924683 ___ PIX_LOSS : 1.3874473571777344\n",
      "Time for epoch 271 is 155.5842468738556 second\n",
      "LOSS =========> Generator : 29.570417404174805 ___ Discriminator : 1.0116990804672241 ___ PIX_LOSS : 1.3873013257980347\n",
      "Time for epoch 272 is 155.3058795928955 second\n",
      "LOSS =========> Generator : 29.564056396484375 ___ Discriminator : 1.0118433237075806 ___ PIX_LOSS : 1.3871837854385376\n",
      "Time for epoch 273 is 155.19522500038147 second\n",
      "LOSS =========> Generator : 29.557809829711914 ___ Discriminator : 1.011966586112976 ___ PIX_LOSS : 1.3871217966079712\n",
      "Time for epoch 274 is 155.5951099395752 second\n",
      "LOSS =========> Generator : 29.551555633544922 ___ Discriminator : 1.0120750665664673 ___ PIX_LOSS : 1.3870550394058228\n",
      "Time for epoch 275 is 155.7826578617096 second\n",
      "LOSS =========> Generator : 29.545379638671875 ___ Discriminator : 1.0121768712997437 ___ PIX_LOSS : 1.3869750499725342\n",
      "Time for epoch 276 is 157.50830912590027 second\n",
      "LOSS =========> Generator : 29.53923988342285 ___ Discriminator : 1.0122727155685425 ___ PIX_LOSS : 1.3868789672851562\n",
      "Time for epoch 277 is 160.60269975662231 second\n",
      "LOSS =========> Generator : 29.533037185668945 ___ Discriminator : 1.0123717784881592 ___ PIX_LOSS : 1.386746883392334\n",
      "Time for epoch 278 is 158.63565254211426 second\n",
      "LOSS =========> Generator : 29.526840209960938 ___ Discriminator : 1.0124924182891846 ___ PIX_LOSS : 1.3866064548492432\n",
      "Time for epoch 279 is 158.55925703048706 second\n",
      "LOSS =========> Generator : 29.520824432373047 ___ Discriminator : 1.0125823020935059 ___ PIX_LOSS : 1.3865840435028076\n",
      "Saving checkpoint for epoch 280 at /Tama/Checkpoints/pix\\ckpt-28\n",
      "Time for epoch 280 is 162.99710035324097 second\n",
      "LOSS =========> Generator : 29.514713287353516 ___ Discriminator : 1.0126909017562866 ___ PIX_LOSS : 1.3864867687225342\n",
      "Time for epoch 281 is 155.6034073829651 second\n",
      "LOSS =========> Generator : 29.508573532104492 ___ Discriminator : 1.0128175020217896 ___ PIX_LOSS : 1.386330246925354\n",
      "Time for epoch 282 is 155.76097893714905 second\n",
      "LOSS =========> Generator : 29.502450942993164 ___ Discriminator : 1.0129587650299072 ___ PIX_LOSS : 1.3861510753631592\n",
      "Time for epoch 283 is 155.98713994026184 second\n",
      "LOSS =========> Generator : 29.496444702148438 ___ Discriminator : 1.013100028038025 ___ PIX_LOSS : 1.3860127925872803\n",
      "Time for epoch 284 is 155.61784625053406 second\n",
      "LOSS =========> Generator : 29.49047088623047 ___ Discriminator : 1.013242244720459 ___ PIX_LOSS : 1.385869026184082\n",
      "Time for epoch 285 is 155.669664144516 second\n",
      "LOSS =========> Generator : 29.48459243774414 ___ Discriminator : 1.0134005546569824 ___ PIX_LOSS : 1.3857381343841553\n",
      "Time for epoch 286 is 155.7405822277069 second\n",
      "LOSS =========> Generator : 29.478784561157227 ___ Discriminator : 1.0135071277618408 ___ PIX_LOSS : 1.385676383972168\n",
      "Time for epoch 287 is 155.71294498443604 second\n",
      "LOSS =========> Generator : 29.472896575927734 ___ Discriminator : 1.013637900352478 ___ PIX_LOSS : 1.385538101196289\n",
      "Time for epoch 288 is 155.1230983734131 second\n",
      "LOSS =========> Generator : 29.467008590698242 ___ Discriminator : 1.0137828588485718 ___ PIX_LOSS : 1.385364294052124\n"
     ]
    },
    {
     "name": "stdout",
     "output_type": "stream",
     "text": [
      "Time for epoch 289 is 155.3592450618744 second\n",
      "LOSS =========> Generator : 29.461139678955078 ___ Discriminator : 1.013909935951233 ___ PIX_LOSS : 1.3851934671401978\n",
      "Saving checkpoint for epoch 290 at /Tama/Checkpoints/pix\\ckpt-29\n",
      "Time for epoch 290 is 160.51047658920288 second\n",
      "LOSS =========> Generator : 29.455326080322266 ___ Discriminator : 1.014060139656067 ___ PIX_LOSS : 1.385047197341919\n",
      "Time for epoch 291 is 155.72889161109924 second\n",
      "LOSS =========> Generator : 29.44951057434082 ___ Discriminator : 1.0142234563827515 ___ PIX_LOSS : 1.3848836421966553\n",
      "Time for epoch 292 is 155.85248398780823 second\n",
      "LOSS =========> Generator : 29.44375228881836 ___ Discriminator : 1.0143882036209106 ___ PIX_LOSS : 1.3847323656082153\n",
      "Time for epoch 293 is 155.47845077514648 second\n",
      "LOSS =========> Generator : 29.43798828125 ___ Discriminator : 1.0145490169525146 ___ PIX_LOSS : 1.384562611579895\n",
      "Time for epoch 294 is 155.829176902771 second\n",
      "LOSS =========> Generator : 29.432273864746094 ___ Discriminator : 1.0147006511688232 ___ PIX_LOSS : 1.3844072818756104\n",
      "Time for epoch 295 is 156.44013333320618 second\n",
      "LOSS =========> Generator : 29.42656707763672 ___ Discriminator : 1.014883279800415 ___ PIX_LOSS : 1.384257197380066\n",
      "Time for epoch 296 is 155.9196298122406 second\n",
      "LOSS =========> Generator : 29.420963287353516 ___ Discriminator : 1.0150495767593384 ___ PIX_LOSS : 1.3841087818145752\n",
      "Time for epoch 297 is 155.84698057174683 second\n",
      "LOSS =========> Generator : 29.415340423583984 ___ Discriminator : 1.0152524709701538 ___ PIX_LOSS : 1.383953332901001\n",
      "Time for epoch 298 is 155.73996114730835 second\n",
      "LOSS =========> Generator : 29.409706115722656 ___ Discriminator : 1.0154495239257812 ___ PIX_LOSS : 1.3837826251983643\n",
      "Time for epoch 299 is 155.94607996940613 second\n",
      "LOSS =========> Generator : 29.404043197631836 ___ Discriminator : 1.015622854232788 ___ PIX_LOSS : 1.3835963010787964\n",
      "Saving checkpoint for epoch 300 at /Tama/Checkpoints/pix\\ckpt-30\n",
      "Time for epoch 300 is 161.3538851737976 second\n",
      "LOSS =========> Generator : 29.398441314697266 ___ Discriminator : 1.0157705545425415 ___ PIX_LOSS : 1.3834184408187866\n",
      "Generator and Discriminator saved . . .\n",
      "\n",
      "Time for epoch 301 is 156.3954360485077 second\n",
      "LOSS =========> Generator : 29.392932891845703 ___ Discriminator : 1.0159392356872559 ___ PIX_LOSS : 1.383256196975708\n",
      "Time for epoch 302 is 156.9410319328308 second\n",
      "LOSS =========> Generator : 29.387454986572266 ___ Discriminator : 1.0160828828811646 ___ PIX_LOSS : 1.3830772638320923\n",
      "Time for epoch 303 is 156.86238765716553 second\n",
      "LOSS =========> Generator : 29.382049560546875 ___ Discriminator : 1.0162239074707031 ___ PIX_LOSS : 1.3829014301300049\n",
      "Time for epoch 304 is 156.27739095687866 second\n",
      "LOSS =========> Generator : 29.376663208007812 ___ Discriminator : 1.0163791179656982 ___ PIX_LOSS : 1.3827311992645264\n",
      "Time for epoch 305 is 156.2611231803894 second\n",
      "LOSS =========> Generator : 29.37123680114746 ___ Discriminator : 1.0165213346481323 ___ PIX_LOSS : 1.3825385570526123\n",
      "Time for epoch 306 is 156.46112418174744 second\n",
      "LOSS =========> Generator : 29.365846633911133 ___ Discriminator : 1.0166540145874023 ___ PIX_LOSS : 1.382349967956543\n",
      "Time for epoch 307 is 156.58179020881653 second\n",
      "LOSS =========> Generator : 29.360454559326172 ___ Discriminator : 1.0167903900146484 ___ PIX_LOSS : 1.382157564163208\n",
      "Time for epoch 308 is 156.33312821388245 second\n",
      "LOSS =========> Generator : 29.355085372924805 ___ Discriminator : 1.0169309377670288 ___ PIX_LOSS : 1.3819670677185059\n",
      "Time for epoch 309 is 156.78073525428772 second\n",
      "LOSS =========> Generator : 29.349702835083008 ___ Discriminator : 1.017087697982788 ___ PIX_LOSS : 1.381787896156311\n",
      "Saving checkpoint for epoch 310 at /Tama/Checkpoints/pix\\ckpt-31\n",
      "Time for epoch 310 is 175.4974114894867 second\n",
      "LOSS =========> Generator : 29.344406127929688 ___ Discriminator : 1.0172232389450073 ___ PIX_LOSS : 1.3816083669662476\n",
      "Time for epoch 311 is 226.7500262260437 second\n",
      "LOSS =========> Generator : 29.339069366455078 ___ Discriminator : 1.0173592567443848 ___ PIX_LOSS : 1.381420612335205\n",
      "Time for epoch 312 is 236.45818185806274 second\n",
      "LOSS =========> Generator : 29.333778381347656 ___ Discriminator : 1.01750648021698 ___ PIX_LOSS : 1.3812309503555298\n",
      "Time for epoch 313 is 239.37786722183228 second\n",
      "LOSS =========> Generator : 29.328516006469727 ___ Discriminator : 1.0176677703857422 ___ PIX_LOSS : 1.3810380697250366\n",
      "Time for epoch 314 is 197.5051691532135 second\n",
      "LOSS =========> Generator : 29.32330322265625 ___ Discriminator : 1.0178041458129883 ___ PIX_LOSS : 1.3808636665344238\n",
      "Time for epoch 315 is 212.90411472320557 second\n",
      "LOSS =========> Generator : 29.31814193725586 ___ Discriminator : 1.0179686546325684 ___ PIX_LOSS : 1.380682349205017\n",
      "Time for epoch 316 is 206.29836201667786 second\n",
      "LOSS =========> Generator : 29.312969207763672 ___ Discriminator : 1.018137812614441 ___ PIX_LOSS : 1.380490779876709\n",
      "Time for epoch 317 is 172.1931493282318 second\n",
      "LOSS =========> Generator : 29.30779266357422 ___ Discriminator : 1.0183031558990479 ___ PIX_LOSS : 1.3802889585494995\n",
      "Time for epoch 318 is 157.4443781375885 second\n",
      "LOSS =========> Generator : 29.302635192871094 ___ Discriminator : 1.0184829235076904 ___ PIX_LOSS : 1.380098581314087\n",
      "Time for epoch 319 is 156.95386242866516 second\n",
      "LOSS =========> Generator : 29.297563552856445 ___ Discriminator : 1.0186796188354492 ___ PIX_LOSS : 1.379927158355713\n",
      "Saving checkpoint for epoch 320 at /Tama/Checkpoints/pix\\ckpt-32\n",
      "Time for epoch 320 is 162.58071732521057 second\n",
      "LOSS =========> Generator : 29.292463302612305 ___ Discriminator : 1.0188833475112915 ___ PIX_LOSS : 1.3797656297683716\n",
      "Time for epoch 321 is 156.27491927146912 second\n",
      "LOSS =========> Generator : 29.287376403808594 ___ Discriminator : 1.0191231966018677 ___ PIX_LOSS : 1.37959885597229\n",
      "Time for epoch 322 is 156.07103204727173 second\n",
      "LOSS =========> Generator : 29.282299041748047 ___ Discriminator : 1.0193692445755005 ___ PIX_LOSS : 1.3794257640838623\n",
      "Time for epoch 323 is 315.919570684433 second\n",
      "LOSS =========> Generator : 29.277297973632812 ___ Discriminator : 1.0195865631103516 ___ PIX_LOSS : 1.3792362213134766\n",
      "Time for epoch 324 is 325.91382217407227 second\n",
      "LOSS =========> Generator : 29.272232055664062 ___ Discriminator : 1.0197516679763794 ___ PIX_LOSS : 1.3790297508239746\n",
      "Time for epoch 325 is 173.89726543426514 second\n",
      "LOSS =========> Generator : 29.267210006713867 ___ Discriminator : 1.01987886428833 ___ PIX_LOSS : 1.3788005113601685\n",
      "Time for epoch 326 is 167.23304915428162 second\n",
      "LOSS =========> Generator : 29.262216567993164 ___ Discriminator : 1.0199944972991943 ___ PIX_LOSS : 1.3785781860351562\n",
      "Time for epoch 327 is 161.65214228630066 second\n",
      "LOSS =========> Generator : 29.257230758666992 ___ Discriminator : 1.0201114416122437 ___ PIX_LOSS : 1.3783513307571411\n",
      "Time for epoch 328 is 158.1229441165924 second\n",
      "LOSS =========> Generator : 29.252248764038086 ___ Discriminator : 1.0202386379241943 ___ PIX_LOSS : 1.378121256828308\n",
      "Time for epoch 329 is 156.99251294136047 second\n",
      "LOSS =========> Generator : 29.247262954711914 ___ Discriminator : 1.0203605890274048 ___ PIX_LOSS : 1.3778880834579468\n",
      "Saving checkpoint for epoch 330 at /Tama/Checkpoints/pix\\ckpt-33\n",
      "Time for epoch 330 is 163.5796992778778 second\n",
      "LOSS =========> Generator : 29.242324829101562 ___ Discriminator : 1.0204825401306152 ___ PIX_LOSS : 1.3776557445526123\n",
      "Time for epoch 331 is 158.68961143493652 second\n",
      "LOSS =========> Generator : 29.237491607666016 ___ Discriminator : 1.0206284523010254 ___ PIX_LOSS : 1.3774583339691162\n",
      "Time for epoch 332 is 160.12220406532288 second\n",
      "LOSS =========> Generator : 29.232654571533203 ___ Discriminator : 1.0207617282867432 ___ PIX_LOSS : 1.3772485256195068\n",
      "Time for epoch 333 is 157.70808005332947 second\n",
      "LOSS =========> Generator : 29.227821350097656 ___ Discriminator : 1.020882487297058 ___ PIX_LOSS : 1.3770380020141602\n",
      "Time for epoch 334 is 157.33606958389282 second\n",
      "LOSS =========> Generator : 29.22298240661621 ___ Discriminator : 1.0209978818893433 ___ PIX_LOSS : 1.376818299293518\n",
      "Time for epoch 335 is 157.16895627975464 second\n",
      "LOSS =========> Generator : 29.218185424804688 ___ Discriminator : 1.0211182832717896 ___ PIX_LOSS : 1.376613736152649\n"
     ]
    },
    {
     "name": "stdout",
     "output_type": "stream",
     "text": [
      "Time for epoch 336 is 157.08205389976501 second\n",
      "LOSS =========> Generator : 29.213375091552734 ___ Discriminator : 1.0212490558624268 ___ PIX_LOSS : 1.376404047012329\n",
      "Time for epoch 337 is 157.6215832233429 second\n",
      "LOSS =========> Generator : 29.20859146118164 ___ Discriminator : 1.0213805437088013 ___ PIX_LOSS : 1.3761876821517944\n",
      "Time for epoch 338 is 158.4946300983429 second\n",
      "LOSS =========> Generator : 29.20379066467285 ___ Discriminator : 1.0215195417404175 ___ PIX_LOSS : 1.3759764432907104\n",
      "Time for epoch 339 is 156.91702127456665 second\n",
      "LOSS =========> Generator : 29.199081420898438 ___ Discriminator : 1.021667242050171 ___ PIX_LOSS : 1.3757843971252441\n",
      "Saving checkpoint for epoch 340 at /Tama/Checkpoints/pix\\ckpt-34\n",
      "Time for epoch 340 is 161.86652731895447 second\n",
      "LOSS =========> Generator : 29.194372177124023 ___ Discriminator : 1.0218117237091064 ___ PIX_LOSS : 1.3755807876586914\n",
      "Time for epoch 341 is 156.78772735595703 second\n",
      "LOSS =========> Generator : 29.18973731994629 ___ Discriminator : 1.0219554901123047 ___ PIX_LOSS : 1.3753814697265625\n",
      "Time for epoch 342 is 160.35679411888123 second\n",
      "LOSS =========> Generator : 29.185102462768555 ___ Discriminator : 1.0220811367034912 ___ PIX_LOSS : 1.3751684427261353\n",
      "Time for epoch 343 is 157.2297728061676 second\n",
      "LOSS =========> Generator : 29.1804256439209 ___ Discriminator : 1.0222023725509644 ___ PIX_LOSS : 1.3749477863311768\n",
      "Time for epoch 344 is 156.4751341342926 second\n",
      "LOSS =========> Generator : 29.175796508789062 ___ Discriminator : 1.022330403327942 ___ PIX_LOSS : 1.3747365474700928\n",
      "Time for epoch 345 is 156.25083780288696 second\n",
      "LOSS =========> Generator : 29.171161651611328 ___ Discriminator : 1.0224586725234985 ___ PIX_LOSS : 1.3745205402374268\n",
      "Time for epoch 346 is 155.87558698654175 second\n",
      "LOSS =========> Generator : 29.166574478149414 ___ Discriminator : 1.0225756168365479 ___ PIX_LOSS : 1.3743155002593994\n",
      "Time for epoch 347 is 156.50375199317932 second\n",
      "LOSS =========> Generator : 29.16201400756836 ___ Discriminator : 1.0227030515670776 ___ PIX_LOSS : 1.3741106986999512\n",
      "Time for epoch 348 is 156.25270891189575 second\n",
      "LOSS =========> Generator : 29.157535552978516 ___ Discriminator : 1.0228365659713745 ___ PIX_LOSS : 1.3739092350006104\n",
      "Time for epoch 349 is 156.0805218219757 second\n",
      "LOSS =========> Generator : 29.153053283691406 ___ Discriminator : 1.0229640007019043 ___ PIX_LOSS : 1.373704195022583\n",
      "Saving checkpoint for epoch 350 at /Tama/Checkpoints/pix\\ckpt-35\n",
      "Time for epoch 350 is 161.46164059638977 second\n",
      "LOSS =========> Generator : 29.1485538482666 ___ Discriminator : 1.0230873823165894 ___ PIX_LOSS : 1.373500943183899\n",
      "Time for epoch 351 is 158.61363101005554 second\n",
      "LOSS =========> Generator : 29.144071578979492 ___ Discriminator : 1.0232353210449219 ___ PIX_LOSS : 1.3732960224151611\n",
      "Time for epoch 352 is 156.7148015499115 second\n",
      "LOSS =========> Generator : 29.139598846435547 ___ Discriminator : 1.0233908891677856 ___ PIX_LOSS : 1.3730851411819458\n",
      "Time for epoch 353 is 156.47009205818176 second\n",
      "LOSS =========> Generator : 29.135147094726562 ___ Discriminator : 1.0235427618026733 ___ PIX_LOSS : 1.37288236618042\n",
      "Time for epoch 354 is 156.66506004333496 second\n",
      "LOSS =========> Generator : 29.130760192871094 ___ Discriminator : 1.0237066745758057 ___ PIX_LOSS : 1.3726869821548462\n",
      "Time for epoch 355 is 156.11181259155273 second\n",
      "LOSS =========> Generator : 29.12633514404297 ___ Discriminator : 1.0238752365112305 ___ PIX_LOSS : 1.372488260269165\n",
      "Time for epoch 356 is 156.92006754875183 second\n",
      "LOSS =========> Generator : 29.1219482421875 ___ Discriminator : 1.0240501165390015 ___ PIX_LOSS : 1.3722951412200928\n",
      "Time for epoch 357 is 156.24858355522156 second\n",
      "LOSS =========> Generator : 29.11761474609375 ___ Discriminator : 1.0242260694503784 ___ PIX_LOSS : 1.3720988035202026\n",
      "Time for epoch 358 is 156.84838128089905 second\n",
      "LOSS =========> Generator : 29.113256454467773 ___ Discriminator : 1.0243947505950928 ___ PIX_LOSS : 1.371890664100647\n",
      "Time for epoch 359 is 156.33128595352173 second\n",
      "LOSS =========> Generator : 29.108882904052734 ___ Discriminator : 1.0245487689971924 ___ PIX_LOSS : 1.371667742729187\n",
      "Saving checkpoint for epoch 360 at /Tama/Checkpoints/pix\\ckpt-36\n",
      "Time for epoch 360 is 161.74439907073975 second\n",
      "LOSS =========> Generator : 29.10450553894043 ___ Discriminator : 1.024694800376892 ___ PIX_LOSS : 1.3714334964752197\n",
      "Time for epoch 361 is 157.68599438667297 second\n",
      "LOSS =========> Generator : 29.100135803222656 ___ Discriminator : 1.0248366594314575 ___ PIX_LOSS : 1.371202826499939\n",
      "Time for epoch 362 is 158.01485776901245 second\n",
      "LOSS =========> Generator : 29.09581756591797 ___ Discriminator : 1.02496337890625 ___ PIX_LOSS : 1.3709585666656494\n",
      "Time for epoch 363 is 157.23326086997986 second\n",
      "LOSS =========> Generator : 29.091535568237305 ___ Discriminator : 1.0250883102416992 ___ PIX_LOSS : 1.3707304000854492\n",
      "Time for epoch 364 is 156.50786423683167 second\n",
      "LOSS =========> Generator : 29.08727264404297 ___ Discriminator : 1.0252035856246948 ___ PIX_LOSS : 1.3704946041107178\n",
      "Time for epoch 365 is 157.2071816921234 second\n",
      "LOSS =========> Generator : 29.08302116394043 ___ Discriminator : 1.025348424911499 ___ PIX_LOSS : 1.3702681064605713\n",
      "Time for epoch 366 is 156.39155745506287 second\n",
      "LOSS =========> Generator : 29.07880973815918 ___ Discriminator : 1.0255084037780762 ___ PIX_LOSS : 1.3700536489486694\n",
      "Time for epoch 367 is 156.64657592773438 second\n",
      "LOSS =========> Generator : 29.074615478515625 ___ Discriminator : 1.0256280899047852 ___ PIX_LOSS : 1.3698245286941528\n",
      "Time for epoch 368 is 156.40039205551147 second\n",
      "LOSS =========> Generator : 29.07034683227539 ___ Discriminator : 1.0257512331008911 ___ PIX_LOSS : 1.3695902824401855\n",
      "Time for epoch 369 is 156.29139614105225 second\n",
      "LOSS =========> Generator : 29.066118240356445 ___ Discriminator : 1.0258793830871582 ___ PIX_LOSS : 1.3693598508834839\n",
      "Saving checkpoint for epoch 370 at /Tama/Checkpoints/pix\\ckpt-37\n",
      "Time for epoch 370 is 161.47313523292542 second\n",
      "LOSS =========> Generator : 29.06195640563965 ___ Discriminator : 1.0260199308395386 ___ PIX_LOSS : 1.3691327571868896\n",
      "Time for epoch 371 is 160.65066814422607 second\n",
      "LOSS =========> Generator : 29.057790756225586 ___ Discriminator : 1.026185393333435 ___ PIX_LOSS : 1.3689169883728027\n",
      "Time for epoch 372 is 156.67402982711792 second\n",
      "LOSS =========> Generator : 29.053686141967773 ___ Discriminator : 1.0263712406158447 ___ PIX_LOSS : 1.36872136592865\n",
      "Time for epoch 373 is 156.42749285697937 second\n",
      "LOSS =========> Generator : 29.04961585998535 ___ Discriminator : 1.0265599489212036 ___ PIX_LOSS : 1.3685245513916016\n",
      "Time for epoch 374 is 156.32029008865356 second\n",
      "LOSS =========> Generator : 29.04551124572754 ___ Discriminator : 1.0267479419708252 ___ PIX_LOSS : 1.3683133125305176\n",
      "Time for epoch 375 is 156.55965042114258 second\n",
      "LOSS =========> Generator : 29.04144287109375 ___ Discriminator : 1.0269147157669067 ___ PIX_LOSS : 1.3680965900421143\n",
      "Time for epoch 376 is 156.29781103134155 second\n",
      "LOSS =========> Generator : 29.037389755249023 ___ Discriminator : 1.0270816087722778 ___ PIX_LOSS : 1.367871642112732\n",
      "Time for epoch 377 is 156.59265279769897 second\n",
      "LOSS =========> Generator : 29.03329849243164 ___ Discriminator : 1.0272306203842163 ___ PIX_LOSS : 1.36763334274292\n",
      "Time for epoch 378 is 156.4419424533844 second\n",
      "LOSS =========> Generator : 29.029203414916992 ___ Discriminator : 1.0273722410202026 ___ PIX_LOSS : 1.3673845529556274\n",
      "Time for epoch 379 is 156.48859190940857 second\n",
      "LOSS =========> Generator : 29.025114059448242 ___ Discriminator : 1.0275155305862427 ___ PIX_LOSS : 1.3671330213546753\n",
      "Saving checkpoint for epoch 380 at /Tama/Checkpoints/pix\\ckpt-38\n",
      "Time for epoch 380 is 161.71276998519897 second\n",
      "LOSS =========> Generator : 29.021024703979492 ___ Discriminator : 1.027660846710205 ___ PIX_LOSS : 1.3668828010559082\n",
      "Time for epoch 381 is 156.64366245269775 second\n",
      "LOSS =========> Generator : 29.01699447631836 ___ Discriminator : 1.0278174877166748 ___ PIX_LOSS : 1.3666386604309082\n",
      "Time for epoch 382 is 156.30373191833496 second\n",
      "LOSS =========> Generator : 29.01300621032715 ___ Discriminator : 1.0279550552368164 ___ PIX_LOSS : 1.3663933277130127\n",
      "Time for epoch 383 is 156.65520787239075 second\n",
      "LOSS =========> Generator : 29.00902557373047 ___ Discriminator : 1.028074026107788 ___ PIX_LOSS : 1.3661566972732544\n"
     ]
    },
    {
     "name": "stdout",
     "output_type": "stream",
     "text": [
      "Time for epoch 384 is 161.49061346054077 second\n",
      "LOSS =========> Generator : 29.005037307739258 ___ Discriminator : 1.028185486793518 ___ PIX_LOSS : 1.365912675857544\n",
      "Time for epoch 385 is 157.09759902954102 second\n",
      "LOSS =========> Generator : 29.001066207885742 ___ Discriminator : 1.0283187627792358 ___ PIX_LOSS : 1.3656790256500244\n",
      "Time for epoch 386 is 156.62656950950623 second\n",
      "LOSS =========> Generator : 28.997085571289062 ___ Discriminator : 1.02843177318573 ___ PIX_LOSS : 1.3654247522354126\n",
      "Time for epoch 387 is 156.2058219909668 second\n",
      "LOSS =========> Generator : 28.993125915527344 ___ Discriminator : 1.0285512208938599 ___ PIX_LOSS : 1.3651769161224365\n",
      "Time for epoch 388 is 156.62377882003784 second\n",
      "LOSS =========> Generator : 28.98919105529785 ___ Discriminator : 1.0286706686019897 ___ PIX_LOSS : 1.3649452924728394\n",
      "Time for epoch 389 is 161.08326649665833 second\n",
      "LOSS =========> Generator : 28.98526954650879 ___ Discriminator : 1.0288035869598389 ___ PIX_LOSS : 1.3647137880325317\n",
      "Saving checkpoint for epoch 390 at /Tama/Checkpoints/pix\\ckpt-39\n",
      "Time for epoch 390 is 161.8805215358734 second\n",
      "LOSS =========> Generator : 28.98137092590332 ___ Discriminator : 1.028950810432434 ___ PIX_LOSS : 1.3644860982894897\n",
      "Time for epoch 391 is 156.13014602661133 second\n",
      "LOSS =========> Generator : 28.97749900817871 ___ Discriminator : 1.029109239578247 ___ PIX_LOSS : 1.3642629384994507\n",
      "Time for epoch 392 is 157.67063975334167 second\n",
      "LOSS =========> Generator : 28.973676681518555 ___ Discriminator : 1.0292541980743408 ___ PIX_LOSS : 1.3640398979187012\n",
      "Time for epoch 393 is 156.3385100364685 second\n",
      "LOSS =========> Generator : 28.9698429107666 ___ Discriminator : 1.0293853282928467 ___ PIX_LOSS : 1.3638067245483398\n",
      "Time for epoch 394 is 156.8639099597931 second\n",
      "LOSS =========> Generator : 28.96601676940918 ___ Discriminator : 1.0295053720474243 ___ PIX_LOSS : 1.3635588884353638\n",
      "Time for epoch 395 is 166.54274439811707 second\n",
      "LOSS =========> Generator : 28.962203979492188 ___ Discriminator : 1.029610514640808 ___ PIX_LOSS : 1.3633118867874146\n",
      "Time for epoch 396 is 156.5462703704834 second\n",
      "LOSS =========> Generator : 28.958391189575195 ___ Discriminator : 1.029715657234192 ___ PIX_LOSS : 1.3630670309066772\n",
      "Time for epoch 397 is 156.88538122177124 second\n",
      "LOSS =========> Generator : 28.954620361328125 ___ Discriminator : 1.0298395156860352 ___ PIX_LOSS : 1.3628265857696533\n",
      "Time for epoch 398 is 156.3269157409668 second\n",
      "LOSS =========> Generator : 28.950851440429688 ___ Discriminator : 1.0299640893936157 ___ PIX_LOSS : 1.3625940084457397\n",
      "Time for epoch 399 is 156.39487886428833 second\n",
      "LOSS =========> Generator : 28.9471378326416 ___ Discriminator : 1.0301237106323242 ___ PIX_LOSS : 1.3623735904693604\n",
      "Saving checkpoint for epoch 400 at /Tama/Checkpoints/pix\\ckpt-40\n",
      "Time for epoch 400 is 161.89936518669128 second\n",
      "LOSS =========> Generator : 28.943376541137695 ___ Discriminator : 1.0302786827087402 ___ PIX_LOSS : 1.3621604442596436\n",
      "Generator and Discriminator saved . . .\n",
      "\n",
      "Time for epoch 401 is 156.9322965145111 second\n",
      "LOSS =========> Generator : 28.939640045166016 ___ Discriminator : 1.0304228067398071 ___ PIX_LOSS : 1.3619335889816284\n",
      "Time for epoch 402 is 552.0989427566528 second\n",
      "LOSS =========> Generator : 28.935970306396484 ___ Discriminator : 1.030549168586731 ___ PIX_LOSS : 1.3617080450057983\n",
      "Time for epoch 403 is 468.97078037261963 second\n",
      "LOSS =========> Generator : 28.93227767944336 ___ Discriminator : 1.0306785106658936 ___ PIX_LOSS : 1.3614766597747803\n",
      "Time for epoch 404 is 229.14600682258606 second\n",
      "LOSS =========> Generator : 28.928556442260742 ___ Discriminator : 1.030808687210083 ___ PIX_LOSS : 1.3612432479858398\n",
      "Time for epoch 405 is 178.9218053817749 second\n",
      "LOSS =========> Generator : 28.92488670349121 ___ Discriminator : 1.0309474468231201 ___ PIX_LOSS : 1.361015796661377\n",
      "Time for epoch 406 is 171.94513416290283 second\n",
      "LOSS =========> Generator : 28.92121696472168 ___ Discriminator : 1.031104326248169 ___ PIX_LOSS : 1.3607932329177856\n",
      "Time for epoch 407 is 167.74153685569763 second\n",
      "LOSS =========> Generator : 28.917543411254883 ___ Discriminator : 1.031233549118042 ___ PIX_LOSS : 1.3605616092681885\n",
      "Time for epoch 408 is 164.6941680908203 second\n",
      "LOSS =========> Generator : 28.91387367248535 ___ Discriminator : 1.0313570499420166 ___ PIX_LOSS : 1.360316276550293\n",
      "Time for epoch 409 is 166.2544207572937 second\n",
      "LOSS =========> Generator : 28.910213470458984 ___ Discriminator : 1.0314759016036987 ___ PIX_LOSS : 1.360074520111084\n",
      "Saving checkpoint for epoch 410 at /Tama/Checkpoints/pix\\ckpt-41\n",
      "Time for epoch 410 is 169.32788848876953 second\n",
      "LOSS =========> Generator : 28.906574249267578 ___ Discriminator : 1.0315961837768555 ___ PIX_LOSS : 1.3598366975784302\n",
      "Time for epoch 411 is 161.8344132900238 second\n",
      "LOSS =========> Generator : 28.90296745300293 ___ Discriminator : 1.0317376852035522 ___ PIX_LOSS : 1.3595987558364868\n",
      "Time for epoch 412 is 161.48422861099243 second\n",
      "LOSS =========> Generator : 28.899368286132812 ___ Discriminator : 1.0318926572799683 ___ PIX_LOSS : 1.3593714237213135\n",
      "Time for epoch 413 is 161.03884363174438 second\n",
      "LOSS =========> Generator : 28.895769119262695 ___ Discriminator : 1.032055139541626 ___ PIX_LOSS : 1.3591519594192505\n",
      "Time for epoch 414 is 160.03428292274475 second\n",
      "LOSS =========> Generator : 28.892189025878906 ___ Discriminator : 1.032248854637146 ___ PIX_LOSS : 1.3589510917663574\n",
      "Time for epoch 415 is 163.92227244377136 second\n",
      "LOSS =========> Generator : 28.888669967651367 ___ Discriminator : 1.0324467420578003 ___ PIX_LOSS : 1.3587591648101807\n",
      "Time for epoch 416 is 164.27896308898926 second\n",
      "LOSS =========> Generator : 28.885164260864258 ___ Discriminator : 1.0326300859451294 ___ PIX_LOSS : 1.3585567474365234\n",
      "Time for epoch 417 is 162.50499296188354 second\n",
      "LOSS =========> Generator : 28.881635665893555 ___ Discriminator : 1.0327988862991333 ___ PIX_LOSS : 1.3583261966705322\n",
      "Time for epoch 418 is 163.11248445510864 second\n",
      "LOSS =========> Generator : 28.878089904785156 ___ Discriminator : 1.0329409837722778 ___ PIX_LOSS : 1.358079195022583\n",
      "Time for epoch 419 is 160.88787007331848 second\n",
      "LOSS =========> Generator : 28.874536514282227 ___ Discriminator : 1.0330595970153809 ___ PIX_LOSS : 1.357829213142395\n",
      "Saving checkpoint for epoch 420 at /Tama/Checkpoints/pix\\ckpt-42\n",
      "Time for epoch 420 is 166.54188179969788 second\n",
      "LOSS =========> Generator : 28.871017456054688 ___ Discriminator : 1.0331752300262451 ___ PIX_LOSS : 1.3575767278671265\n",
      "Time for epoch 421 is 159.91156101226807 second\n",
      "LOSS =========> Generator : 28.86751937866211 ___ Discriminator : 1.033295750617981 ___ PIX_LOSS : 1.3573330640792847\n",
      "Time for epoch 422 is 160.0153729915619 second\n",
      "LOSS =========> Generator : 28.864011764526367 ___ Discriminator : 1.0334186553955078 ___ PIX_LOSS : 1.357086181640625\n",
      "Time for epoch 423 is 159.7527949810028 second\n",
      "LOSS =========> Generator : 28.86050033569336 ___ Discriminator : 1.033524751663208 ___ PIX_LOSS : 1.3568328619003296\n",
      "Time for epoch 424 is 159.54395627975464 second\n",
      "LOSS =========> Generator : 28.85700798034668 ___ Discriminator : 1.0336401462554932 ___ PIX_LOSS : 1.3565748929977417\n",
      "Time for epoch 425 is 159.9864182472229 second\n",
      "LOSS =========> Generator : 28.853567123413086 ___ Discriminator : 1.0337638854980469 ___ PIX_LOSS : 1.3563252687454224\n",
      "Time for epoch 426 is 159.46519255638123 second\n",
      "LOSS =========> Generator : 28.850107192993164 ___ Discriminator : 1.0338704586029053 ___ PIX_LOSS : 1.3560806512832642\n",
      "Time for epoch 427 is 158.3829312324524 second\n",
      "LOSS =========> Generator : 28.846698760986328 ___ Discriminator : 1.0340005159378052 ___ PIX_LOSS : 1.3558536767959595\n",
      "Time for epoch 428 is 158.47146105766296 second\n",
      "LOSS =========> Generator : 28.84331703186035 ___ Discriminator : 1.0341103076934814 ___ PIX_LOSS : 1.3556201457977295\n",
      "Time for epoch 429 is 161.31092715263367 second\n",
      "LOSS =========> Generator : 28.839941024780273 ___ Discriminator : 1.0342243909835815 ___ PIX_LOSS : 1.3553861379623413\n",
      "Saving checkpoint for epoch 430 at /Tama/Checkpoints/pix\\ckpt-43\n",
      "Time for epoch 430 is 164.22610664367676 second\n",
      "LOSS =========> Generator : 28.836530685424805 ___ Discriminator : 1.0343317985534668 ___ PIX_LOSS : 1.3551448583602905\n"
     ]
    },
    {
     "name": "stdout",
     "output_type": "stream",
     "text": [
      "Time for epoch 431 is 159.3833785057068 second\n",
      "LOSS =========> Generator : 28.83313751220703 ___ Discriminator : 1.0344431400299072 ___ PIX_LOSS : 1.3549121618270874\n",
      "Time for epoch 432 is 158.58370280265808 second\n",
      "LOSS =========> Generator : 28.829784393310547 ___ Discriminator : 1.0345569849014282 ___ PIX_LOSS : 1.3546736240386963\n",
      "Time for epoch 433 is 158.0935399532318 second\n",
      "LOSS =========> Generator : 28.826425552368164 ___ Discriminator : 1.034671425819397 ___ PIX_LOSS : 1.354429841041565\n",
      "Time for epoch 434 is 158.25693273544312 second\n",
      "LOSS =========> Generator : 28.823110580444336 ___ Discriminator : 1.0347907543182373 ___ PIX_LOSS : 1.3542004823684692\n",
      "Time for epoch 435 is 158.2679181098938 second\n",
      "LOSS =========> Generator : 28.819782257080078 ___ Discriminator : 1.0349119901657104 ___ PIX_LOSS : 1.353977084159851\n",
      "Time for epoch 436 is 158.11279916763306 second\n",
      "LOSS =========> Generator : 28.8165340423584 ___ Discriminator : 1.0350663661956787 ___ PIX_LOSS : 1.353777289390564\n",
      "Time for epoch 437 is 157.6998963356018 second\n",
      "LOSS =========> Generator : 28.813262939453125 ___ Discriminator : 1.035265564918518 ___ PIX_LOSS : 1.3536033630371094\n",
      "Time for epoch 438 is 157.97595310211182 second\n",
      "LOSS =========> Generator : 28.809968948364258 ___ Discriminator : 1.0354621410369873 ___ PIX_LOSS : 1.3534092903137207\n",
      "Time for epoch 439 is 158.16585230827332 second\n",
      "LOSS =========> Generator : 28.806686401367188 ___ Discriminator : 1.035657286643982 ___ PIX_LOSS : 1.3532159328460693\n",
      "Saving checkpoint for epoch 440 at /Tama/Checkpoints/pix\\ckpt-44\n",
      "Time for epoch 440 is 162.66237115859985 second\n",
      "LOSS =========> Generator : 28.803380966186523 ___ Discriminator : 1.0358107089996338 ___ PIX_LOSS : 1.3529927730560303\n",
      "Time for epoch 441 is 162.9561710357666 second\n",
      "LOSS =========> Generator : 28.8000545501709 ___ Discriminator : 1.0359336137771606 ___ PIX_LOSS : 1.3527486324310303\n",
      "Time for epoch 442 is 159.3784258365631 second\n",
      "LOSS =========> Generator : 28.796730041503906 ___ Discriminator : 1.0360411405563354 ___ PIX_LOSS : 1.3524967432022095\n",
      "Time for epoch 443 is 158.50148630142212 second\n",
      "LOSS =========> Generator : 28.793399810791016 ___ Discriminator : 1.0361473560333252 ___ PIX_LOSS : 1.3522446155548096\n",
      "Time for epoch 444 is 157.56273293495178 second\n",
      "LOSS =========> Generator : 28.790124893188477 ___ Discriminator : 1.0362656116485596 ___ PIX_LOSS : 1.3519959449768066\n",
      "Time for epoch 445 is 157.91070461273193 second\n",
      "LOSS =========> Generator : 28.7868595123291 ___ Discriminator : 1.0363720655441284 ___ PIX_LOSS : 1.3517457246780396\n",
      "Time for epoch 446 is 157.90623784065247 second\n",
      "LOSS =========> Generator : 28.783599853515625 ___ Discriminator : 1.0364903211593628 ___ PIX_LOSS : 1.351509690284729\n",
      "Time for epoch 447 is 157.94640445709229 second\n",
      "LOSS =========> Generator : 28.7803955078125 ___ Discriminator : 1.0366183519363403 ___ PIX_LOSS : 1.3512743711471558\n",
      "Time for epoch 448 is 158.64464044570923 second\n",
      "LOSS =========> Generator : 28.777145385742188 ___ Discriminator : 1.0367281436920166 ___ PIX_LOSS : 1.351028323173523\n",
      "Time for epoch 449 is 159.01154851913452 second\n",
      "LOSS =========> Generator : 28.77391815185547 ___ Discriminator : 1.0368441343307495 ___ PIX_LOSS : 1.35078763961792\n",
      "Saving checkpoint for epoch 450 at /Tama/Checkpoints/pix\\ckpt-45\n",
      "Time for epoch 450 is 162.95597314834595 second\n",
      "LOSS =========> Generator : 28.77071762084961 ___ Discriminator : 1.036942720413208 ___ PIX_LOSS : 1.3505479097366333\n",
      "Time for epoch 451 is 159.55971932411194 second\n",
      "LOSS =========> Generator : 28.767553329467773 ___ Discriminator : 1.0370393991470337 ___ PIX_LOSS : 1.350303292274475\n",
      "Time for epoch 452 is 157.87490606307983 second\n",
      "LOSS =========> Generator : 28.764381408691406 ___ Discriminator : 1.037149429321289 ___ PIX_LOSS : 1.3500680923461914\n",
      "Time for epoch 453 is 157.31476759910583 second\n",
      "LOSS =========> Generator : 28.761226654052734 ___ Discriminator : 1.0372639894485474 ___ PIX_LOSS : 1.349835753440857\n",
      "Time for epoch 454 is 157.98760867118835 second\n",
      "LOSS =========> Generator : 28.758119583129883 ___ Discriminator : 1.0373927354812622 ___ PIX_LOSS : 1.349616527557373\n",
      "Time for epoch 455 is 157.36972379684448 second\n",
      "LOSS =========> Generator : 28.754966735839844 ___ Discriminator : 1.0375261306762695 ___ PIX_LOSS : 1.349388599395752\n",
      "Time for epoch 456 is 157.91733026504517 second\n",
      "LOSS =========> Generator : 28.751806259155273 ___ Discriminator : 1.0376373529434204 ___ PIX_LOSS : 1.3491495847702026\n",
      "Time for epoch 457 is 157.53781080245972 second\n",
      "LOSS =========> Generator : 28.748680114746094 ___ Discriminator : 1.037742018699646 ___ PIX_LOSS : 1.3489024639129639\n",
      "Time for epoch 458 is 157.71184873580933 second\n",
      "LOSS =========> Generator : 28.745574951171875 ___ Discriminator : 1.0378553867340088 ___ PIX_LOSS : 1.3486660718917847\n",
      "Time for epoch 459 is 157.06951332092285 second\n",
      "LOSS =========> Generator : 28.74246597290039 ___ Discriminator : 1.0379606485366821 ___ PIX_LOSS : 1.3484241962432861\n",
      "Saving checkpoint for epoch 460 at /Tama/Checkpoints/pix\\ckpt-46\n",
      "Time for epoch 460 is 168.83585596084595 second\n",
      "LOSS =========> Generator : 28.739391326904297 ___ Discriminator : 1.0380626916885376 ___ PIX_LOSS : 1.3481882810592651\n",
      "Time for epoch 461 is 157.53124856948853 second\n",
      "LOSS =========> Generator : 28.736358642578125 ___ Discriminator : 1.038196325302124 ___ PIX_LOSS : 1.3479763269424438\n",
      "Time for epoch 462 is 157.09895968437195 second\n",
      "LOSS =========> Generator : 28.733304977416992 ___ Discriminator : 1.0383195877075195 ___ PIX_LOSS : 1.3477572202682495\n",
      "Time for epoch 463 is 157.40083241462708 second\n",
      "LOSS =========> Generator : 28.73027992248535 ___ Discriminator : 1.0384430885314941 ___ PIX_LOSS : 1.347535252571106\n",
      "Time for epoch 464 is 158.2411229610443 second\n",
      "LOSS =========> Generator : 28.72722816467285 ___ Discriminator : 1.038556456565857 ___ PIX_LOSS : 1.3473042249679565\n",
      "Time for epoch 465 is 157.42566585540771 second\n",
      "LOSS =========> Generator : 28.72419548034668 ___ Discriminator : 1.0386879444122314 ___ PIX_LOSS : 1.3470836877822876\n",
      "Time for epoch 466 is 157.74592757225037 second\n",
      "LOSS =========> Generator : 28.721166610717773 ___ Discriminator : 1.0388327836990356 ___ PIX_LOSS : 1.3468592166900635\n",
      "Time for epoch 467 is 157.4703552722931 second\n",
      "LOSS =========> Generator : 28.71817398071289 ___ Discriminator : 1.0389832258224487 ___ PIX_LOSS : 1.3466366529464722\n",
      "Time for epoch 468 is 157.9048056602478 second\n",
      "LOSS =========> Generator : 28.715147018432617 ___ Discriminator : 1.039135456085205 ___ PIX_LOSS : 1.3464124202728271\n",
      "Time for epoch 469 is 158.00508952140808 second\n",
      "LOSS =========> Generator : 28.712125778198242 ___ Discriminator : 1.0392847061157227 ___ PIX_LOSS : 1.3461884260177612\n",
      "Saving checkpoint for epoch 470 at /Tama/Checkpoints/pix\\ckpt-47\n",
      "Time for epoch 470 is 162.56989550590515 second\n",
      "LOSS =========> Generator : 28.70912742614746 ___ Discriminator : 1.0394288301467896 ___ PIX_LOSS : 1.3459633588790894\n",
      "Time for epoch 471 is 157.99527645111084 second\n",
      "LOSS =========> Generator : 28.706113815307617 ___ Discriminator : 1.039560079574585 ___ PIX_LOSS : 1.3457300662994385\n",
      "Time for epoch 472 is 157.81454873085022 second\n",
      "LOSS =========> Generator : 28.703088760375977 ___ Discriminator : 1.0396848917007446 ___ PIX_LOSS : 1.3454943895339966\n",
      "Time for epoch 473 is 164.13593745231628 second\n",
      "LOSS =========> Generator : 28.700077056884766 ___ Discriminator : 1.0398170948028564 ___ PIX_LOSS : 1.3452541828155518\n",
      "Time for epoch 474 is 157.45643615722656 second\n",
      "LOSS =========> Generator : 28.697057723999023 ___ Discriminator : 1.0399435758590698 ___ PIX_LOSS : 1.3450124263763428\n",
      "Time for epoch 475 is 158.50613522529602 second\n",
      "LOSS =========> Generator : 28.694063186645508 ___ Discriminator : 1.0400729179382324 ___ PIX_LOSS : 1.3447794914245605\n",
      "Time for epoch 476 is 166.24977159500122 second\n",
      "LOSS =========> Generator : 28.691116333007812 ___ Discriminator : 1.0402148962020874 ___ PIX_LOSS : 1.3445625305175781\n",
      "Time for epoch 477 is 161.4476661682129 second\n",
      "LOSS =========> Generator : 28.688159942626953 ___ Discriminator : 1.0403517484664917 ___ PIX_LOSS : 1.3443430662155151\n",
      "Time for epoch 478 is 160.81748056411743 second\n",
      "LOSS =========> Generator : 28.685211181640625 ___ Discriminator : 1.0404750108718872 ___ PIX_LOSS : 1.344111680984497\n"
     ]
    },
    {
     "name": "stdout",
     "output_type": "stream",
     "text": [
      "Time for epoch 479 is 157.5103862285614 second\n",
      "LOSS =========> Generator : 28.682279586791992 ___ Discriminator : 1.0406118631362915 ___ PIX_LOSS : 1.3438867330551147\n",
      "Saving checkpoint for epoch 480 at /Tama/Checkpoints/pix\\ckpt-48\n",
      "Time for epoch 480 is 162.93488717079163 second\n",
      "LOSS =========> Generator : 28.679336547851562 ___ Discriminator : 1.0407371520996094 ___ PIX_LOSS : 1.3436518907546997\n",
      "Time for epoch 481 is 158.73380398750305 second\n",
      "LOSS =========> Generator : 28.676406860351562 ___ Discriminator : 1.040889859199524 ___ PIX_LOSS : 1.343435287475586\n",
      "Time for epoch 482 is 158.46099495887756 second\n",
      "LOSS =========> Generator : 28.673479080200195 ___ Discriminator : 1.041057825088501 ___ PIX_LOSS : 1.3432210683822632\n",
      "Time for epoch 483 is 157.83150243759155 second\n",
      "LOSS =========> Generator : 28.67055892944336 ___ Discriminator : 1.0412299633026123 ___ PIX_LOSS : 1.3430007696151733\n",
      "Time for epoch 484 is 159.6556429862976 second\n",
      "LOSS =========> Generator : 28.667644500732422 ___ Discriminator : 1.0414115190505981 ___ PIX_LOSS : 1.3427844047546387\n",
      "Time for epoch 485 is 161.0545163154602 second\n",
      "LOSS =========> Generator : 28.664749145507812 ___ Discriminator : 1.0415910482406616 ___ PIX_LOSS : 1.3425688743591309\n",
      "Time for epoch 486 is 159.44689059257507 second\n",
      "LOSS =========> Generator : 28.661865234375 ___ Discriminator : 1.0417656898498535 ___ PIX_LOSS : 1.3423559665679932\n",
      "Time for epoch 487 is 158.75979208946228 second\n",
      "LOSS =========> Generator : 28.658985137939453 ___ Discriminator : 1.0419244766235352 ___ PIX_LOSS : 1.3421319723129272\n",
      "Time for epoch 488 is 158.55195879936218 second\n",
      "LOSS =========> Generator : 28.656116485595703 ___ Discriminator : 1.0420761108398438 ___ PIX_LOSS : 1.3418972492218018\n",
      "Time for epoch 489 is 158.28227472305298 second\n",
      "LOSS =========> Generator : 28.653217315673828 ___ Discriminator : 1.0422006845474243 ___ PIX_LOSS : 1.3416484594345093\n",
      "Saving checkpoint for epoch 490 at /Tama/Checkpoints/pix\\ckpt-49\n",
      "Time for epoch 490 is 163.44326186180115 second\n",
      "LOSS =========> Generator : 28.650333404541016 ___ Discriminator : 1.0423179864883423 ___ PIX_LOSS : 1.3413875102996826\n",
      "Time for epoch 491 is 158.84158992767334 second\n",
      "LOSS =========> Generator : 28.64745330810547 ___ Discriminator : 1.0424392223358154 ___ PIX_LOSS : 1.341130018234253\n",
      "Time for epoch 492 is 158.57007908821106 second\n",
      "LOSS =========> Generator : 28.64459228515625 ___ Discriminator : 1.0425697565078735 ___ PIX_LOSS : 1.340883731842041\n",
      "Time for epoch 493 is 162.52316212654114 second\n",
      "LOSS =========> Generator : 28.6417236328125 ___ Discriminator : 1.0426782369613647 ___ PIX_LOSS : 1.3406270742416382\n",
      "Time for epoch 494 is 159.2123749256134 second\n",
      "LOSS =========> Generator : 28.638874053955078 ___ Discriminator : 1.042784333229065 ___ PIX_LOSS : 1.34037184715271\n",
      "Time for epoch 495 is 158.11697912216187 second\n",
      "LOSS =========> Generator : 28.63603401184082 ___ Discriminator : 1.0428884029388428 ___ PIX_LOSS : 1.3401168584823608\n",
      "Time for epoch 496 is 165.99370765686035 second\n",
      "LOSS =========> Generator : 28.63320541381836 ___ Discriminator : 1.0430048704147339 ___ PIX_LOSS : 1.3398759365081787\n",
      "Time for epoch 497 is 165.11848545074463 second\n",
      "LOSS =========> Generator : 28.630416870117188 ___ Discriminator : 1.043117642402649 ___ PIX_LOSS : 1.339634895324707\n",
      "Time for epoch 498 is 161.08664917945862 second\n",
      "LOSS =========> Generator : 28.62761688232422 ___ Discriminator : 1.0432250499725342 ___ PIX_LOSS : 1.3393917083740234\n",
      "Time for epoch 499 is 159.82292819023132 second\n",
      "LOSS =========> Generator : 28.624820709228516 ___ Discriminator : 1.0433403253555298 ___ PIX_LOSS : 1.3391505479812622\n",
      "Saving checkpoint for epoch 500 at /Tama/Checkpoints/pix\\ckpt-50\n",
      "Time for epoch 500 is 164.3947446346283 second\n",
      "LOSS =========> Generator : 28.622072219848633 ___ Discriminator : 1.0434491634368896 ___ PIX_LOSS : 1.3389190435409546\n",
      "Generator and Discriminator saved . . .\n",
      "\n"
     ]
    }
   ],
   "source": [
    "train(train_day, train_night, EPOCHS)"
   ]
  },
  {
   "cell_type": "code",
   "execution_count": 49,
   "metadata": {
    "scrolled": true
   },
   "outputs": [
    {
     "name": "stdout",
     "output_type": "stream",
     "text": [
      "The tensorboard extension is already loaded. To reload it, use:\n",
      "  %reload_ext tensorboard\n"
     ]
    },
    {
     "data": {
      "text/plain": [
       "ERROR: Timed out waiting for TensorBoard to start. It may still be running as pid 3112."
      ]
     },
     "metadata": {},
     "output_type": "display_data"
    }
   ],
   "source": [
    "%load_ext tensorboard\n",
    "%tensorboard --logdir {\"/Tama/logsfit/pix2pix\"} --host localhost"
   ]
  },
  {
   "cell_type": "code",
   "execution_count": 77,
   "metadata": {},
   "outputs": [
    {
     "name": "stderr",
     "output_type": "stream",
     "text": [
      "kill: 2352: No such process\n"
     ]
    }
   ],
   "source": [
    "!kill 16548"
   ]
  },
  {
   "cell_type": "code",
   "execution_count": 48,
   "metadata": {},
   "outputs": [
    {
     "data": {
      "image/png": "[encoded data removed]",
      "text/plain": [
       "<Figure size 2880x576 with 1 Axes>"
      ]
     },
     "metadata": {
      "needs_background": "light"
     },
     "output_type": "display_data"
    }
   ],
   "source": [
    "plt.rcParams['figure.figsize'] = [40, 8]\n",
    "# plt.subplots_adjust(wspace=0.2)\n",
    "\n",
    "plt.subplot(121)\n",
    "# Plot training & validation accuracy values\n",
    "plt.plot(history['generator_loss'])\n",
    "plt.plot(history['discriminator_loss'])\n",
    "plt.plot(history['Pix_Loss'])\n",
    "plt.title('Model Loss')\n",
    "plt.ylabel('Loss')\n",
    "plt.xlabel('Epoch')\n",
    "plt.savefig('Grafik Loss.png')\n",
    "plt.legend(['Generator', 'Discriminator', 'DCGAN'])\n",
    "plt.savefig('pix_graph.png')"
   ]
  },
  {
   "cell_type": "markdown",
   "metadata": {
    "colab_type": "text",
    "id": "BQG8kL7tUj2x"
   },
   "source": [
    "# LET'S TRY !"
   ]
  },
  {
   "cell_type": "code",
   "execution_count": 78,
   "metadata": {
    "colab": {
     "base_uri": "https://localhost:8080/",
     "height": 285
    },
    "colab_type": "code",
    "executionInfo": {
     "elapsed": 2027,
     "status": "ok",
     "timestamp": 1599781915094,
     "user": {
      "displayName": "PRATAMA YOGA SANTOSA",
      "photoUrl": "https://lh3.googleusercontent.com/a-/AOh14GjWRs9nTMPC9NRpBu06931FqS9Vo8s9zj8yr5ZO=s64",
      "userId": "10150142696432046369"
     },
     "user_tz": -420
    },
    "id": "8q8mdoKKUrds",
    "outputId": "6ff5c1b5-6a87-4951-aba9-a074a5b3c3b6"
   },
   "outputs": [
    {
     "data": {
      "image/png": "[encoded data removed]",
      "text/plain": [
       "<Figure size 2880x576 with 1 Axes>"
      ]
     },
     "metadata": {
      "needs_background": "light"
     },
     "output_type": "display_data"
    }
   ],
   "source": [
    "img = load_img('/Tama/coba.jpg', target_size = im_size)\n",
    "# img = load_img('/gdrive/My Drive/DCGAN/DCGAN-OFFTF/training/day/0007.jpg', target_size = im_size)\n",
    "pixel = img_to_array(img)\n",
    "pixel /= 255\n",
    "plt.imshow(pixel)\n",
    "# plt.axis('off')\n",
    "plt.show()"
   ]
  },
  {
   "cell_type": "code",
   "execution_count": 70,
   "metadata": {
    "colab": {},
    "colab_type": "code",
    "id": "jrrIeY7iVIvh"
   },
   "outputs": [],
   "source": [
    "# img = np.array(img, dtype='float')\n",
    "pixel = pixel.reshape(1, 128, 128, 3)"
   ]
  },
  {
   "cell_type": "code",
   "execution_count": 71,
   "metadata": {
    "colab": {
     "base_uri": "https://localhost:8080/",
     "height": 34
    },
    "colab_type": "code",
    "executionInfo": {
     "elapsed": 1338,
     "status": "ok",
     "timestamp": 1599781920259,
     "user": {
      "displayName": "PRATAMA YOGA SANTOSA",
      "photoUrl": "https://lh3.googleusercontent.com/a-/AOh14GjWRs9nTMPC9NRpBu06931FqS9Vo8s9zj8yr5ZO=s64",
      "userId": "10150142696432046369"
     },
     "user_tz": -420
    },
    "id": "kemA-rpuVh-r",
    "outputId": "7e59d329-ac48-41ef-97b8-274d0cf04f9b"
   },
   "outputs": [
    {
     "data": {
      "text/plain": [
       "(1, 128, 128, 3)"
      ]
     },
     "execution_count": 71,
     "metadata": {},
     "output_type": "execute_result"
    }
   ],
   "source": [
    "pixel.shape"
   ]
  },
  {
   "cell_type": "code",
   "execution_count": 72,
   "metadata": {},
   "outputs": [],
   "source": [
    "# from tensorflow import keras\n",
    "# dcgan = keras.models.load_model('Train/generator.h5',compile=False)"
   ]
  },
  {
   "cell_type": "code",
   "execution_count": 73,
   "metadata": {
    "colab": {},
    "colab_type": "code",
    "id": "sd2jpaGVUrZE"
   },
   "outputs": [],
   "source": [
    "# hasil = dcgan(pixel, training=False)"
   ]
  },
  {
   "cell_type": "code",
   "execution_count": 74,
   "metadata": {},
   "outputs": [],
   "source": [
    "hasil = generator(pixel, training=False)"
   ]
  },
  {
   "cell_type": "code",
   "execution_count": 75,
   "metadata": {
    "colab": {
     "base_uri": "https://localhost:8080/",
     "height": 302
    },
    "colab_type": "code",
    "executionInfo": {
     "elapsed": 1907,
     "status": "ok",
     "timestamp": 1599781924183,
     "user": {
      "displayName": "PRATAMA YOGA SANTOSA",
      "photoUrl": "https://lh3.googleusercontent.com/a-/AOh14GjWRs9nTMPC9NRpBu06931FqS9Vo8s9zj8yr5ZO=s64",
      "userId": "10150142696432046369"
     },
     "user_tz": -420
    },
    "id": "qPocTmfhVMOw",
    "outputId": "a1adb05e-2786-46f6-8f46-b9efa548cbee",
    "scrolled": true
   },
   "outputs": [
    {
     "data": {
      "image/png": "[encoded data removed]",
      "text/plain": [
       "<Figure size 2880x576 with 2 Axes>"
      ]
     },
     "metadata": {
      "needs_background": "light"
     },
     "output_type": "display_data"
    }
   ],
   "source": [
    "fig, ax = plt.subplots(1,2)\n",
    "ax[0].imshow(pixel[0, :, :])\n",
    "ax[1].imshow(hasil[0,:,:,:])\n",
    "plt.savefig('test2.png')\n",
    "plt.show()"
   ]
  },
  {
   "cell_type": "code",
   "execution_count": 46,
   "metadata": {
    "colab": {},
    "colab_type": "code",
    "id": "UmrQ1NyIf02S"
   },
   "outputs": [
    {
     "ename": "KeyError",
     "evalue": "'DCGAN_loss'",
     "output_type": "error",
     "traceback": [
      "\u001b[1;31m---------------------------------------------------------------------------\u001b[0m",
      "\u001b[1;31mKeyError\u001b[0m                                  Traceback (most recent call last)",
      "\u001b[1;32m<ipython-input-46-98b76b1060fe>\u001b[0m in \u001b[0;36m<module>\u001b[1;34m\u001b[0m\n\u001b[0;32m      6\u001b[0m \u001b[0mplt\u001b[0m\u001b[1;33m.\u001b[0m\u001b[0mplot\u001b[0m\u001b[1;33m(\u001b[0m\u001b[0mhistory\u001b[0m\u001b[1;33m[\u001b[0m\u001b[1;34m'generator_loss'\u001b[0m\u001b[1;33m]\u001b[0m\u001b[1;33m)\u001b[0m\u001b[1;33m\u001b[0m\u001b[1;33m\u001b[0m\u001b[0m\n\u001b[0;32m      7\u001b[0m \u001b[0mplt\u001b[0m\u001b[1;33m.\u001b[0m\u001b[0mplot\u001b[0m\u001b[1;33m(\u001b[0m\u001b[0mhistory\u001b[0m\u001b[1;33m[\u001b[0m\u001b[1;34m'discriminator_loss'\u001b[0m\u001b[1;33m]\u001b[0m\u001b[1;33m)\u001b[0m\u001b[1;33m\u001b[0m\u001b[1;33m\u001b[0m\u001b[0m\n\u001b[1;32m----> 8\u001b[1;33m \u001b[0mplt\u001b[0m\u001b[1;33m.\u001b[0m\u001b[0mplot\u001b[0m\u001b[1;33m(\u001b[0m\u001b[0mhistory\u001b[0m\u001b[1;33m[\u001b[0m\u001b[1;34m'DCGAN_loss'\u001b[0m\u001b[1;33m]\u001b[0m\u001b[1;33m)\u001b[0m\u001b[1;33m\u001b[0m\u001b[1;33m\u001b[0m\u001b[0m\n\u001b[0m\u001b[0;32m      9\u001b[0m \u001b[0mplt\u001b[0m\u001b[1;33m.\u001b[0m\u001b[0mtitle\u001b[0m\u001b[1;33m(\u001b[0m\u001b[1;34m'Model Loss'\u001b[0m\u001b[1;33m)\u001b[0m\u001b[1;33m\u001b[0m\u001b[1;33m\u001b[0m\u001b[0m\n\u001b[0;32m     10\u001b[0m \u001b[0mplt\u001b[0m\u001b[1;33m.\u001b[0m\u001b[0mylabel\u001b[0m\u001b[1;33m(\u001b[0m\u001b[1;34m'Loss'\u001b[0m\u001b[1;33m)\u001b[0m\u001b[1;33m\u001b[0m\u001b[1;33m\u001b[0m\u001b[0m\n",
      "\u001b[1;31mKeyError\u001b[0m: 'DCGAN_loss'"
     ]
    },
    {
     "data": {
      "image/png": "[encoded data removed]",
      "text/plain": [
       "<Figure size 2880x576 with 1 Axes>"
      ]
     },
     "metadata": {
      "needs_background": "light"
     },
     "output_type": "display_data"
    }
   ],
   "source": [
    "plt.rcParams['figure.figsize'] = [40, 8]\n",
    "# plt.subplots_adjust(wspace=0.2)\n",
    "\n",
    "plt.subplot(121)\n",
    "# Plot training & validation accuracy values\n",
    "plt.plot(history['generator_loss'])\n",
    "plt.plot(history['discriminator_loss'])\n",
    "plt.plot(history['Pix_Loss'])\n",
    "plt.title('Model Loss')\n",
    "plt.ylabel('Loss')\n",
    "plt.xlabel('Epoch')\n",
    "plt.savefig('Grafik Loss.png')\n",
    "plt.legend(['Generator', 'Discriminator', 'DCGAN'])\n",
    "plt.savegif('pix_graph.png')"
   ]
  },
  {
   "cell_type": "code",
   "execution_count": null,
   "metadata": {},
   "outputs": [],
   "source": []
  }
 ],
 "metadata": {
  "accelerator": "GPU",
  "colab": {
   "collapsed_sections": [],
   "name": "dc-gan.ipynb",
   "provenance": []
  },
  "kernelspec": {
   "display_name": "Python 3",
   "language": "python",
   "name": "python3"
  },
  "language_info": {
   "codemirror_mode": {
    "name": "ipython",
    "version": 3
   },
   "file_extension": ".py",
   "mimetype": "text/x-python",
   "name": "python",
   "nbconvert_exporter": "python",
   "pygments_lexer": "ipython3",
   "version": "3.8.5"
  }
 },
 "nbformat": 4,
 "nbformat_minor": 1
}
